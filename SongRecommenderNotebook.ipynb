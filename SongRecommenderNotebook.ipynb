{
  "nbformat": 4,
  "nbformat_minor": 0,
  "metadata": {
    "colab": {
      "name": "SongRecommenderNotebook",
      "version": "0.3.2",
      "views": {},
      "default_view": {},
      "provenance": [
        {
          "file_id": "1ZgPMZs2Du4AcdvWzaeNWzwrZzm0EPDMl",
          "timestamp": 1517951467126
        }
      ],
      "collapsed_sections": []
    },
    "kernelspec": {
      "name": "python2",
      "display_name": "Python 2"
    },
    "accelerator": "GPU"
  },
  "cells": [
    {
      "metadata": {
        "id": "ZrUEvjn-2Omy",
        "colab_type": "code",
        "colab": {
          "autoexec": {
            "startup": false,
            "wait_interval": 0
          },
          "output_extras": [
            {
              "item_id": 1
            }
          ],
          "base_uri": "https://localhost:8080/",
          "height": 34
        },
        "outputId": "12fad603-ef12-4b97-d7a5-fdc56c4f97b1",
        "executionInfo": {
          "status": "ok",
          "timestamp": 1518037225962,
          "user_tz": -330,
          "elapsed": 4105,
          "user": {
            "displayName": "Suraj",
            "photoUrl": "//lh5.googleusercontent.com/-n0XOqm4pzzY/AAAAAAAAAAI/AAAAAAAAGMk/QR2xoSjmXbk/s50-c-k-no/photo.jpg",
            "userId": "108764986987181223074"
          }
        }
      },
      "cell_type": "code",
      "source": [
        "#importing libraries\n",
        "%matplotlib inline\n",
        "import pandas\n",
        "from sklearn.cross_validation import train_test_split\n",
        "import numpy as np\n",
        "import time\n",
        "from sklearn.externals import joblib\n",
        "#Adding progress bar\n",
        "!pip install -U tqdm\n",
        "from tqdm import tqdm"
      ],
      "execution_count": 36,
      "outputs": [
        {
          "output_type": "stream",
          "text": [
            "Requirement already up-to-date: tqdm in /usr/local/lib/python2.7/dist-packages\r\n"
          ],
          "name": "stdout"
        }
      ]
    },
    {
      "metadata": {
        "id": "GtDxLKpPfE6B",
        "colab_type": "code",
        "colab": {
          "autoexec": {
            "startup": false,
            "wait_interval": 0
          },
          "output_extras": [
            {
              "item_id": 2
            }
          ],
          "base_uri": "https://localhost:8080/",
          "height": 6772
        },
        "outputId": "c17b9f29-46f5-4d93-c277-0772784573b1",
        "executionInfo": {
          "status": "ok",
          "timestamp": 1518037243292,
          "user_tz": -330,
          "elapsed": 16732,
          "user": {
            "displayName": "Suraj",
            "photoUrl": "//lh5.googleusercontent.com/-n0XOqm4pzzY/AAAAAAAAAAI/AAAAAAAAGMk/QR2xoSjmXbk/s50-c-k-no/photo.jpg",
            "userId": "108764986987181223074"
          }
        }
      },
      "cell_type": "code",
      "source": [
        "#fetching the triplets file and songs metadata file\n",
        "triplets_file = 'https://static.turi.com/datasets/millionsong/10000.txt'\n",
        "songs_metadata_file = 'https://static.turi.com/datasets/millionsong/song_data.csv'\n",
        "\n",
        "#reading data files for each using pandas and then appending data to data frames with corresponding data frames\n",
        "song_df_1 = pandas.read_table(triplets_file,header=None)\n",
        "song_df_1.columns = ['user_id', 'song_id', 'listen_count']\n",
        "\n",
        "print(song_df_1)\n",
        "\n",
        "#Read song  metadata of songs \n",
        "song_df_2 =  pandas.read_csv(songs_metadata_file)\n",
        "\n",
        "#Merge the two dataframes above to create input dataframe for recommender systems with duplicate column in both dataframes as song_id\n",
        "song_df = pandas.merge(song_df_1, song_df_2.drop_duplicates(['song_id']), on=\"song_id\", how=\"left\")\n",
        "\n",
        "print(song_df)"
      ],
      "execution_count": 37,
      "outputs": [
        {
          "output_type": "stream",
          "text": [
            "                                          user_id             song_id  \\\n",
            "0        b80344d063b5ccb3212f76538f3d9e43d87dca9e  SOAKIMP12A8C130995   \n",
            "1        b80344d063b5ccb3212f76538f3d9e43d87dca9e  SOBBMDR12A8C13253B   \n",
            "2        b80344d063b5ccb3212f76538f3d9e43d87dca9e  SOBXHDL12A81C204C0   \n",
            "3        b80344d063b5ccb3212f76538f3d9e43d87dca9e  SOBYHAJ12A6701BF1D   \n",
            "4        b80344d063b5ccb3212f76538f3d9e43d87dca9e  SODACBL12A8C13C273   \n",
            "5        b80344d063b5ccb3212f76538f3d9e43d87dca9e  SODDNQT12A6D4F5F7E   \n",
            "6        b80344d063b5ccb3212f76538f3d9e43d87dca9e  SODXRTY12AB0180F3B   \n",
            "7        b80344d063b5ccb3212f76538f3d9e43d87dca9e  SOFGUAY12AB017B0A8   \n",
            "8        b80344d063b5ccb3212f76538f3d9e43d87dca9e  SOFRQTD12A81C233C0   \n",
            "9        b80344d063b5ccb3212f76538f3d9e43d87dca9e  SOHQWYZ12A6D4FA701   \n",
            "10       b80344d063b5ccb3212f76538f3d9e43d87dca9e  SOIYTOA12A6D4F9A23   \n",
            "11       b80344d063b5ccb3212f76538f3d9e43d87dca9e  SOIZAZL12A6701C53B   \n",
            "12       b80344d063b5ccb3212f76538f3d9e43d87dca9e  SOJNNUA12A8AE48C7A   \n",
            "13       b80344d063b5ccb3212f76538f3d9e43d87dca9e  SOJPFQG12A58A7833A   \n",
            "14       b80344d063b5ccb3212f76538f3d9e43d87dca9e  SOKRIMP12A6D4F5DA3   \n",
            "15       b80344d063b5ccb3212f76538f3d9e43d87dca9e  SOLLGNU12AF72A4D4F   \n",
            "16       b80344d063b5ccb3212f76538f3d9e43d87dca9e  SOMGIYR12AB0187973   \n",
            "17       b80344d063b5ccb3212f76538f3d9e43d87dca9e  SOMLMKI12A81C204BC   \n",
            "18       b80344d063b5ccb3212f76538f3d9e43d87dca9e  SOMSQJY12A8C138539   \n",
            "19       b80344d063b5ccb3212f76538f3d9e43d87dca9e  SONSAEZ12A8C138D7A   \n",
            "20       b80344d063b5ccb3212f76538f3d9e43d87dca9e  SOOKGRB12A8C13CD66   \n",
            "21       b80344d063b5ccb3212f76538f3d9e43d87dca9e  SOPCVQE12AC468AF36   \n",
            "22       b80344d063b5ccb3212f76538f3d9e43d87dca9e  SOQIVUD12AB01821D2   \n",
            "23       b80344d063b5ccb3212f76538f3d9e43d87dca9e  SOQJLDY12AAF3B456D   \n",
            "24       b80344d063b5ccb3212f76538f3d9e43d87dca9e  SOQLCKR12A81C22440   \n",
            "25       b80344d063b5ccb3212f76538f3d9e43d87dca9e  SORPMYJ12AF729EB90   \n",
            "26       b80344d063b5ccb3212f76538f3d9e43d87dca9e  SORQHCG12A58A7EEBA   \n",
            "27       b80344d063b5ccb3212f76538f3d9e43d87dca9e  SORUFVF12AB018230B   \n",
            "28       b80344d063b5ccb3212f76538f3d9e43d87dca9e  SORWLTW12A670208FA   \n",
            "29       b80344d063b5ccb3212f76538f3d9e43d87dca9e  SORZASF12A6D4F8CFA   \n",
            "...                                           ...                 ...   \n",
            "1999970  d8bfd4ec88f0f3773a9e022e3c1a0f1d3b7b6a92  SOFGJCW12AF72A812D   \n",
            "1999971  d8bfd4ec88f0f3773a9e022e3c1a0f1d3b7b6a92  SOFKABN12A8AE476C6   \n",
            "1999972  d8bfd4ec88f0f3773a9e022e3c1a0f1d3b7b6a92  SOFKHBO12A8C1451C5   \n",
            "1999973  d8bfd4ec88f0f3773a9e022e3c1a0f1d3b7b6a92  SOFRCGW12A81C21EA6   \n",
            "1999974  d8bfd4ec88f0f3773a9e022e3c1a0f1d3b7b6a92  SOFROGM12A8C136F19   \n",
            "1999975  d8bfd4ec88f0f3773a9e022e3c1a0f1d3b7b6a92  SOFROOV12A67020901   \n",
            "1999976  d8bfd4ec88f0f3773a9e022e3c1a0f1d3b7b6a92  SOFRQTD12A81C233C0   \n",
            "1999977  d8bfd4ec88f0f3773a9e022e3c1a0f1d3b7b6a92  SOFVZRE12A8C139783   \n",
            "1999978  d8bfd4ec88f0f3773a9e022e3c1a0f1d3b7b6a92  SOGGPKT12A8C1424BE   \n",
            "1999979  d8bfd4ec88f0f3773a9e022e3c1a0f1d3b7b6a92  SOGHGWJ12A8C1451BA   \n",
            "1999980  d8bfd4ec88f0f3773a9e022e3c1a0f1d3b7b6a92  SOGHQMI12A8AE46ADC   \n",
            "1999981  d8bfd4ec88f0f3773a9e022e3c1a0f1d3b7b6a92  SOGIDHJ12AB01800D1   \n",
            "1999982  d8bfd4ec88f0f3773a9e022e3c1a0f1d3b7b6a92  SOGJMJH12A6702154D   \n",
            "1999983  d8bfd4ec88f0f3773a9e022e3c1a0f1d3b7b6a92  SOGOAGM12AB017E99E   \n",
            "1999984  d8bfd4ec88f0f3773a9e022e3c1a0f1d3b7b6a92  SOGPBAW12A6D4F9F22   \n",
            "1999985  d8bfd4ec88f0f3773a9e022e3c1a0f1d3b7b6a92  SOGQJKF12A8C13729E   \n",
            "1999986  d8bfd4ec88f0f3773a9e022e3c1a0f1d3b7b6a92  SOGTQNI12AB0184A5C   \n",
            "1999987  d8bfd4ec88f0f3773a9e022e3c1a0f1d3b7b6a92  SOHBPAS12A58A7EB59   \n",
            "1999988  d8bfd4ec88f0f3773a9e022e3c1a0f1d3b7b6a92  SOHPTUY12A6701F344   \n",
            "1999989  d8bfd4ec88f0f3773a9e022e3c1a0f1d3b7b6a92  SOHQFLV12A6D4F863A   \n",
            "1999990  d8bfd4ec88f0f3773a9e022e3c1a0f1d3b7b6a92  SOHTZUF12A8C13582B   \n",
            "1999991  d8bfd4ec88f0f3773a9e022e3c1a0f1d3b7b6a92  SOHZPIK12A58A7CCAE   \n",
            "1999992  d8bfd4ec88f0f3773a9e022e3c1a0f1d3b7b6a92  SOIDDNJ12AC9071B90   \n",
            "1999993  d8bfd4ec88f0f3773a9e022e3c1a0f1d3b7b6a92  SOINKEZ12A6310E1FC   \n",
            "1999994  d8bfd4ec88f0f3773a9e022e3c1a0f1d3b7b6a92  SOIOESO12A6D4F621D   \n",
            "1999995  d8bfd4ec88f0f3773a9e022e3c1a0f1d3b7b6a92  SOJEYPO12AAA8C6B0E   \n",
            "1999996  d8bfd4ec88f0f3773a9e022e3c1a0f1d3b7b6a92  SOJJYDE12AF729FC16   \n",
            "1999997  d8bfd4ec88f0f3773a9e022e3c1a0f1d3b7b6a92  SOJKQSF12A6D4F5EE9   \n",
            "1999998  d8bfd4ec88f0f3773a9e022e3c1a0f1d3b7b6a92  SOJUXGA12AC961885C   \n",
            "1999999  d8bfd4ec88f0f3773a9e022e3c1a0f1d3b7b6a92  SOJYOLS12A8C13C06F   \n",
            "\n",
            "         listen_count  \n",
            "0                   1  \n",
            "1                   2  \n",
            "2                   1  \n",
            "3                   1  \n",
            "4                   1  \n",
            "5                   5  \n",
            "6                   1  \n",
            "7                   1  \n",
            "8                   1  \n",
            "9                   1  \n",
            "10                  1  \n",
            "11                  5  \n",
            "12                  1  \n",
            "13                  1  \n",
            "14                  5  \n",
            "15                  1  \n",
            "16                  6  \n",
            "17                  1  \n",
            "18                  1  \n",
            "19                  1  \n",
            "20                  1  \n",
            "21                  1  \n",
            "22                  1  \n",
            "23                  1  \n",
            "24                  1  \n",
            "25                  1  \n",
            "26                  1  \n",
            "27                  1  \n",
            "28                  1  \n",
            "29                  2  \n",
            "...               ...  \n",
            "1999970             1  \n",
            "1999971             2  \n",
            "1999972             2  \n",
            "1999973             3  \n",
            "1999974             3  \n",
            "1999975             3  \n",
            "1999976             9  \n",
            "1999977             3  \n",
            "1999978             1  \n",
            "1999979             3  \n",
            "1999980             1  \n",
            "1999981             2  \n",
            "1999982             3  \n",
            "1999983             1  \n",
            "1999984             1  \n",
            "1999985             4  \n",
            "1999986             2  \n",
            "1999987             2  \n",
            "1999988             1  \n",
            "1999989             2  \n",
            "1999990             2  \n",
            "1999991             4  \n",
            "1999992             1  \n",
            "1999993             2  \n",
            "1999994             4  \n",
            "1999995             2  \n",
            "1999996             4  \n",
            "1999997             3  \n",
            "1999998             1  \n",
            "1999999             1  \n",
            "\n",
            "[2000000 rows x 3 columns]\n",
            "                                          user_id             song_id  \\\n",
            "0        b80344d063b5ccb3212f76538f3d9e43d87dca9e  SOAKIMP12A8C130995   \n",
            "1        b80344d063b5ccb3212f76538f3d9e43d87dca9e  SOBBMDR12A8C13253B   \n",
            "2        b80344d063b5ccb3212f76538f3d9e43d87dca9e  SOBXHDL12A81C204C0   \n",
            "3        b80344d063b5ccb3212f76538f3d9e43d87dca9e  SOBYHAJ12A6701BF1D   \n",
            "4        b80344d063b5ccb3212f76538f3d9e43d87dca9e  SODACBL12A8C13C273   \n",
            "5        b80344d063b5ccb3212f76538f3d9e43d87dca9e  SODDNQT12A6D4F5F7E   \n",
            "6        b80344d063b5ccb3212f76538f3d9e43d87dca9e  SODXRTY12AB0180F3B   \n",
            "7        b80344d063b5ccb3212f76538f3d9e43d87dca9e  SOFGUAY12AB017B0A8   \n",
            "8        b80344d063b5ccb3212f76538f3d9e43d87dca9e  SOFRQTD12A81C233C0   \n",
            "9        b80344d063b5ccb3212f76538f3d9e43d87dca9e  SOHQWYZ12A6D4FA701   \n",
            "10       b80344d063b5ccb3212f76538f3d9e43d87dca9e  SOIYTOA12A6D4F9A23   \n",
            "11       b80344d063b5ccb3212f76538f3d9e43d87dca9e  SOIZAZL12A6701C53B   \n",
            "12       b80344d063b5ccb3212f76538f3d9e43d87dca9e  SOJNNUA12A8AE48C7A   \n",
            "13       b80344d063b5ccb3212f76538f3d9e43d87dca9e  SOJPFQG12A58A7833A   \n",
            "14       b80344d063b5ccb3212f76538f3d9e43d87dca9e  SOKRIMP12A6D4F5DA3   \n",
            "15       b80344d063b5ccb3212f76538f3d9e43d87dca9e  SOLLGNU12AF72A4D4F   \n",
            "16       b80344d063b5ccb3212f76538f3d9e43d87dca9e  SOMGIYR12AB0187973   \n",
            "17       b80344d063b5ccb3212f76538f3d9e43d87dca9e  SOMLMKI12A81C204BC   \n",
            "18       b80344d063b5ccb3212f76538f3d9e43d87dca9e  SOMSQJY12A8C138539   \n",
            "19       b80344d063b5ccb3212f76538f3d9e43d87dca9e  SONSAEZ12A8C138D7A   \n",
            "20       b80344d063b5ccb3212f76538f3d9e43d87dca9e  SOOKGRB12A8C13CD66   \n",
            "21       b80344d063b5ccb3212f76538f3d9e43d87dca9e  SOPCVQE12AC468AF36   \n",
            "22       b80344d063b5ccb3212f76538f3d9e43d87dca9e  SOQIVUD12AB01821D2   \n",
            "23       b80344d063b5ccb3212f76538f3d9e43d87dca9e  SOQJLDY12AAF3B456D   \n",
            "24       b80344d063b5ccb3212f76538f3d9e43d87dca9e  SOQLCKR12A81C22440   \n",
            "25       b80344d063b5ccb3212f76538f3d9e43d87dca9e  SORPMYJ12AF729EB90   \n",
            "26       b80344d063b5ccb3212f76538f3d9e43d87dca9e  SORQHCG12A58A7EEBA   \n",
            "27       b80344d063b5ccb3212f76538f3d9e43d87dca9e  SORUFVF12AB018230B   \n",
            "28       b80344d063b5ccb3212f76538f3d9e43d87dca9e  SORWLTW12A670208FA   \n",
            "29       b80344d063b5ccb3212f76538f3d9e43d87dca9e  SORZASF12A6D4F8CFA   \n",
            "...                                           ...                 ...   \n",
            "1999970  d8bfd4ec88f0f3773a9e022e3c1a0f1d3b7b6a92  SOFGJCW12AF72A812D   \n",
            "1999971  d8bfd4ec88f0f3773a9e022e3c1a0f1d3b7b6a92  SOFKABN12A8AE476C6   \n",
            "1999972  d8bfd4ec88f0f3773a9e022e3c1a0f1d3b7b6a92  SOFKHBO12A8C1451C5   \n",
            "1999973  d8bfd4ec88f0f3773a9e022e3c1a0f1d3b7b6a92  SOFRCGW12A81C21EA6   \n",
            "1999974  d8bfd4ec88f0f3773a9e022e3c1a0f1d3b7b6a92  SOFROGM12A8C136F19   \n",
            "1999975  d8bfd4ec88f0f3773a9e022e3c1a0f1d3b7b6a92  SOFROOV12A67020901   \n",
            "1999976  d8bfd4ec88f0f3773a9e022e3c1a0f1d3b7b6a92  SOFRQTD12A81C233C0   \n",
            "1999977  d8bfd4ec88f0f3773a9e022e3c1a0f1d3b7b6a92  SOFVZRE12A8C139783   \n",
            "1999978  d8bfd4ec88f0f3773a9e022e3c1a0f1d3b7b6a92  SOGGPKT12A8C1424BE   \n",
            "1999979  d8bfd4ec88f0f3773a9e022e3c1a0f1d3b7b6a92  SOGHGWJ12A8C1451BA   \n",
            "1999980  d8bfd4ec88f0f3773a9e022e3c1a0f1d3b7b6a92  SOGHQMI12A8AE46ADC   \n",
            "1999981  d8bfd4ec88f0f3773a9e022e3c1a0f1d3b7b6a92  SOGIDHJ12AB01800D1   \n",
            "1999982  d8bfd4ec88f0f3773a9e022e3c1a0f1d3b7b6a92  SOGJMJH12A6702154D   \n",
            "1999983  d8bfd4ec88f0f3773a9e022e3c1a0f1d3b7b6a92  SOGOAGM12AB017E99E   \n",
            "1999984  d8bfd4ec88f0f3773a9e022e3c1a0f1d3b7b6a92  SOGPBAW12A6D4F9F22   \n",
            "1999985  d8bfd4ec88f0f3773a9e022e3c1a0f1d3b7b6a92  SOGQJKF12A8C13729E   \n",
            "1999986  d8bfd4ec88f0f3773a9e022e3c1a0f1d3b7b6a92  SOGTQNI12AB0184A5C   \n",
            "1999987  d8bfd4ec88f0f3773a9e022e3c1a0f1d3b7b6a92  SOHBPAS12A58A7EB59   \n",
            "1999988  d8bfd4ec88f0f3773a9e022e3c1a0f1d3b7b6a92  SOHPTUY12A6701F344   \n",
            "1999989  d8bfd4ec88f0f3773a9e022e3c1a0f1d3b7b6a92  SOHQFLV12A6D4F863A   \n",
            "1999990  d8bfd4ec88f0f3773a9e022e3c1a0f1d3b7b6a92  SOHTZUF12A8C13582B   \n",
            "1999991  d8bfd4ec88f0f3773a9e022e3c1a0f1d3b7b6a92  SOHZPIK12A58A7CCAE   \n",
            "1999992  d8bfd4ec88f0f3773a9e022e3c1a0f1d3b7b6a92  SOIDDNJ12AC9071B90   \n",
            "1999993  d8bfd4ec88f0f3773a9e022e3c1a0f1d3b7b6a92  SOINKEZ12A6310E1FC   \n",
            "1999994  d8bfd4ec88f0f3773a9e022e3c1a0f1d3b7b6a92  SOIOESO12A6D4F621D   \n",
            "1999995  d8bfd4ec88f0f3773a9e022e3c1a0f1d3b7b6a92  SOJEYPO12AAA8C6B0E   \n",
            "1999996  d8bfd4ec88f0f3773a9e022e3c1a0f1d3b7b6a92  SOJJYDE12AF729FC16   \n",
            "1999997  d8bfd4ec88f0f3773a9e022e3c1a0f1d3b7b6a92  SOJKQSF12A6D4F5EE9   \n",
            "1999998  d8bfd4ec88f0f3773a9e022e3c1a0f1d3b7b6a92  SOJUXGA12AC961885C   \n",
            "1999999  d8bfd4ec88f0f3773a9e022e3c1a0f1d3b7b6a92  SOJYOLS12A8C13C06F   \n",
            "\n",
            "         listen_count                                              title  \\\n",
            "0                   1                                           The Cove   \n",
            "1                   2                                    Entre Dos Aguas   \n",
            "2                   1                                           Stronger   \n",
            "3                   1                                     Constellations   \n",
            "4                   1                                       Learn To Fly   \n",
            "5                   5                       Apuesta Por El Rock 'N' Roll   \n",
            "6                   1                                      Paper Gangsta   \n",
            "7                   1                                     Stacked Actors   \n",
            "8                   1                                      Sehr kosmisch   \n",
            "9                   1                      Heaven's gonna burn your eyes   \n",
            "10                  1                                     Let It Be Sung   \n",
            "11                  5  I'll Be Missing You (Featuring Faith Evans & 1...   \n",
            "12                  1                                         Love Shack   \n",
            "13                  1                                            Clarity   \n",
            "14                  5                          I?'m A Steady Rollin? Man   \n",
            "15                  1                                     The Old Saloon   \n",
            "16                  6                   Behind The Sea [Live In Chicago]   \n",
            "17                  1                                           Champion   \n",
            "18                  1                                           Breakout   \n",
            "19                  1                                        Ragged Wood   \n",
            "20                  1                                            Mykonos   \n",
            "21                  1                                       Country Road   \n",
            "22                  1                                              Oh No   \n",
            "23                  1                               Love Song For No One   \n",
            "24                  1                                    Jewels And Gold   \n",
            "25                  1                                            Warning   \n",
            "26                  1                                                 83   \n",
            "27                  1                                               Neon   \n",
            "28                  1                                         The Middle   \n",
            "29                  2                                       High and dry   \n",
            "...               ...                                                ...   \n",
            "1999970             1                                       Already Gone   \n",
            "1999971             2                                         Just Dance   \n",
            "1999972             2                                  Hairline Fracture   \n",
            "1999973             3                                  Hey There Delilah   \n",
            "1999974             3                                    One Of The Boys   \n",
            "1999975             3                                 The Authority Song   \n",
            "1999976             9                                      Sehr kosmisch   \n",
            "1999977             3                           Far Away (Album Version)   \n",
            "1999978             1                                     Into The Night   \n",
            "1999979             3                                      Entertainment   \n",
            "1999980             1                                             No One   \n",
            "1999981             2               Never Gonna Be Alone (Album Version)   \n",
            "1999982             3                                             Closer   \n",
            "1999983             1                                     It's Like That   \n",
            "1999984             1                                 Livin' On A Prayer   \n",
            "1999985             4                          Won't Go Home Without You   \n",
            "1999986             2                                   Vanilla Twilight   \n",
            "1999987             2                                    Come Back to Me   \n",
            "1999988             1                                         Breathless   \n",
            "1999989             2                                 You Could Be Happy   \n",
            "1999990             2                                     Pork And Beans   \n",
            "1999991             4                                             Te Amo   \n",
            "1999992             1                                  That Should Be Me   \n",
            "1999993             2                                               Work   \n",
            "1999994             4                             Unwell (Album Version)   \n",
            "1999995             2                          Ignorance (Album Version)   \n",
            "1999996             4                             Two Is Better Than One   \n",
            "1999997             3                     What I've Done (Album Version)   \n",
            "1999998             1                                                 Up   \n",
            "1999999             1                         Soil_ Soil (Album Version)   \n",
            "\n",
            "                                                   release  \\\n",
            "0                                       Thicker Than Water   \n",
            "1                                      Flamenco Para Niños   \n",
            "2                                               Graduation   \n",
            "3                                        In Between Dreams   \n",
            "4                            There Is Nothing Left To Lose   \n",
            "5                                    Antología Audiovisual   \n",
            "6                                         The Fame Monster   \n",
            "7                            There Is Nothing Left To Lose   \n",
            "8                                       Musik von Harmonia   \n",
            "9                    Hôtel Costes 7 by Stéphane Pompougnac   \n",
            "10                                           If I Had Eyes   \n",
            "11                                              No Way Out   \n",
            "12                                    Original Hits - Rock   \n",
            "13          As/Is: Cleveland/Cincinnati_ OH - 8/03-8/04/04   \n",
            "14                                 Diggin' Deeper Volume 7   \n",
            "15                                              Incredibad   \n",
            "16                                         Live In Chicago   \n",
            "17                                              Graduation   \n",
            "18                           There Is Nothing Left To Lose   \n",
            "19                                             Fleet Foxes   \n",
            "20                                               Sun Giant   \n",
            "21                                              En Concert   \n",
            "22                                             Noble Beast   \n",
            "23                                        Room For Squares   \n",
            "24                                        A Book Like This   \n",
            "25                                   Live in Malaysia 2004   \n",
            "26       Serendipity - Music From The Miramax Motion Pi...   \n",
            "27       Where The Light Is: John Mayer Live In Los Ang...   \n",
            "28                                          Bleed American   \n",
            "29                                12 segundos de oscuridad   \n",
            "...                                                    ...   \n",
            "1999970                                  All I Ever Wanted   \n",
            "1999971                                         Just Dance   \n",
            "1999972                                   Appeal To Reason   \n",
            "1999973                   Now That's What I Call Music! 68   \n",
            "1999974                                    One Of The Boys   \n",
            "1999975                                    Jimmy Eat World   \n",
            "1999976                                 Musik von Harmonia   \n",
            "1999977                              All The Right Reasons   \n",
            "1999978                                   Ultimate Santana   \n",
            "1999979                                   Appeal To Reason   \n",
            "1999980                   Now That's What I Call Music! 69   \n",
            "1999981                                         Dark Horse   \n",
            "1999982                                The Downward Spiral   \n",
            "1999983                       It's Like This - The Best Of   \n",
            "1999984                                         Cross Road   \n",
            "1999985                       It Won't Be Soon Before Long   \n",
            "1999986                                         Ocean Eyes   \n",
            "1999987                                         David Cook   \n",
            "1999988                         Top Of The Pops - Top Tens   \n",
            "1999989                                          Eyes Open   \n",
            "1999990                                     Pork And Beans   \n",
            "1999991                                            Rated R   \n",
            "1999992                                          My Worlds   \n",
            "1999993                                               Work   \n",
            "1999994                        More Than You Think You Are   \n",
            "1999995                                          Ignorance   \n",
            "1999996                                         Love Drunk   \n",
            "1999997                                     What I've Done   \n",
            "1999998                                          My Worlds   \n",
            "1999999                                            The Con   \n",
            "\n",
            "                                               artist_name  year  \n",
            "0                                             Jack Johnson     0  \n",
            "1                                            Paco De Lucia  1976  \n",
            "2                                               Kanye West  2007  \n",
            "3                                             Jack Johnson  2005  \n",
            "4                                             Foo Fighters  1999  \n",
            "5                                      Héroes del Silencio  2007  \n",
            "6                                                Lady GaGa  2008  \n",
            "7                                             Foo Fighters  1999  \n",
            "8                                                 Harmonia     0  \n",
            "9              Thievery Corporation feat. Emiliana Torrini  2002  \n",
            "10       Jack Johnson / Matt Costa / Zach Gill / Dan Le...  2007  \n",
            "11                                              Puff Daddy     0  \n",
            "12                                              The B-52's  1989  \n",
            "13                                              John Mayer     0  \n",
            "14                                          Robert Johnson     0  \n",
            "15                                       The Lonely Island  2009  \n",
            "16                                      Panic At The Disco     0  \n",
            "17                                              Kanye West  2007  \n",
            "18                                            Foo Fighters  1999  \n",
            "19                                             Fleet Foxes  2008  \n",
            "20                                             Fleet Foxes  2008  \n",
            "21                               Jack Johnson / Paula Fuga  2009  \n",
            "22                                             Andrew Bird  2009  \n",
            "23                                              John Mayer     0  \n",
            "24                                     Angus & Julia Stone  2007  \n",
            "25                                                 Incubus  2001  \n",
            "26                                              John Mayer     0  \n",
            "27                                              John Mayer     0  \n",
            "28                                         Jimmy Eat World  2001  \n",
            "29                                           Jorge Drexler  2006  \n",
            "...                                                    ...   ...  \n",
            "1999970                                     Kelly Clarkson  2009  \n",
            "1999971                          Lady GaGa / Colby O'Donis  2008  \n",
            "1999972                                       Rise Against  2008  \n",
            "1999973                                    Plain White T's  2005  \n",
            "1999974                                         Katy Perry  2008  \n",
            "1999975                                    Jimmy Eat World  2001  \n",
            "1999976                                           Harmonia     0  \n",
            "1999977                                         Nickelback  2006  \n",
            "1999978                     Santana Featuring Chad Kroeger     0  \n",
            "1999979                                       Rise Against  2008  \n",
            "1999980                                        Alicia Keys  2007  \n",
            "1999981                                         Nickelback  2008  \n",
            "1999982                                    Nine Inch Nails  1994  \n",
            "1999983                           RUN-DMC vs. Jason Nevins  1984  \n",
            "1999984                                           Bon Jovi  1986  \n",
            "1999985                                           Maroon 5  2007  \n",
            "1999986                                           Owl City  2009  \n",
            "1999987                                         David Cook  2008  \n",
            "1999988                                          The Corrs  2000  \n",
            "1999989                                        Snow Patrol  2006  \n",
            "1999990                                             Weezer  2008  \n",
            "1999991                                            Rihanna  2009  \n",
            "1999992                                      Justin Bieber  2010  \n",
            "1999993                                    Jimmy Eat World  2004  \n",
            "1999994                                    matchbox twenty  2003  \n",
            "1999995                                           Paramore     0  \n",
            "1999996             Boys Like Girls featuring Taylor Swift  2009  \n",
            "1999997                                        Linkin Park  2007  \n",
            "1999998                                      Justin Bieber  2010  \n",
            "1999999                                     Tegan And Sara  2007  \n",
            "\n",
            "[2000000 rows x 7 columns]\n"
          ],
          "name": "stdout"
        }
      ]
    },
    {
      "metadata": {
        "id": "hky854BMh4EO",
        "colab_type": "code",
        "colab": {
          "autoexec": {
            "startup": false,
            "wait_interval": 0
          },
          "output_extras": [
            {
              "item_id": 1
            }
          ],
          "base_uri": "https://localhost:8080/",
          "height": 198
        },
        "outputId": "01876d79-3527-4100-b9b5-29f2e4021beb",
        "executionInfo": {
          "status": "ok",
          "timestamp": 1518037244506,
          "user_tz": -330,
          "elapsed": 1155,
          "user": {
            "displayName": "Suraj",
            "photoUrl": "//lh5.googleusercontent.com/-n0XOqm4pzzY/AAAAAAAAAAI/AAAAAAAAGMk/QR2xoSjmXbk/s50-c-k-no/photo.jpg",
            "userId": "108764986987181223074"
          }
        }
      },
      "cell_type": "code",
      "source": [
        "song_df.head()"
      ],
      "execution_count": 38,
      "outputs": [
        {
          "output_type": "execute_result",
          "data": {
            "text/html": [
              "<div>\n",
              "<style scoped>\n",
              "    .dataframe tbody tr th:only-of-type {\n",
              "        vertical-align: middle;\n",
              "    }\n",
              "\n",
              "    .dataframe tbody tr th {\n",
              "        vertical-align: top;\n",
              "    }\n",
              "\n",
              "    .dataframe thead th {\n",
              "        text-align: right;\n",
              "    }\n",
              "</style>\n",
              "<table border=\"1\" class=\"dataframe\">\n",
              "  <thead>\n",
              "    <tr style=\"text-align: right;\">\n",
              "      <th></th>\n",
              "      <th>user_id</th>\n",
              "      <th>song_id</th>\n",
              "      <th>listen_count</th>\n",
              "      <th>title</th>\n",
              "      <th>release</th>\n",
              "      <th>artist_name</th>\n",
              "      <th>year</th>\n",
              "    </tr>\n",
              "  </thead>\n",
              "  <tbody>\n",
              "    <tr>\n",
              "      <th>0</th>\n",
              "      <td>b80344d063b5ccb3212f76538f3d9e43d87dca9e</td>\n",
              "      <td>SOAKIMP12A8C130995</td>\n",
              "      <td>1</td>\n",
              "      <td>The Cove</td>\n",
              "      <td>Thicker Than Water</td>\n",
              "      <td>Jack Johnson</td>\n",
              "      <td>0</td>\n",
              "    </tr>\n",
              "    <tr>\n",
              "      <th>1</th>\n",
              "      <td>b80344d063b5ccb3212f76538f3d9e43d87dca9e</td>\n",
              "      <td>SOBBMDR12A8C13253B</td>\n",
              "      <td>2</td>\n",
              "      <td>Entre Dos Aguas</td>\n",
              "      <td>Flamenco Para Niños</td>\n",
              "      <td>Paco De Lucia</td>\n",
              "      <td>1976</td>\n",
              "    </tr>\n",
              "    <tr>\n",
              "      <th>2</th>\n",
              "      <td>b80344d063b5ccb3212f76538f3d9e43d87dca9e</td>\n",
              "      <td>SOBXHDL12A81C204C0</td>\n",
              "      <td>1</td>\n",
              "      <td>Stronger</td>\n",
              "      <td>Graduation</td>\n",
              "      <td>Kanye West</td>\n",
              "      <td>2007</td>\n",
              "    </tr>\n",
              "    <tr>\n",
              "      <th>3</th>\n",
              "      <td>b80344d063b5ccb3212f76538f3d9e43d87dca9e</td>\n",
              "      <td>SOBYHAJ12A6701BF1D</td>\n",
              "      <td>1</td>\n",
              "      <td>Constellations</td>\n",
              "      <td>In Between Dreams</td>\n",
              "      <td>Jack Johnson</td>\n",
              "      <td>2005</td>\n",
              "    </tr>\n",
              "    <tr>\n",
              "      <th>4</th>\n",
              "      <td>b80344d063b5ccb3212f76538f3d9e43d87dca9e</td>\n",
              "      <td>SODACBL12A8C13C273</td>\n",
              "      <td>1</td>\n",
              "      <td>Learn To Fly</td>\n",
              "      <td>There Is Nothing Left To Lose</td>\n",
              "      <td>Foo Fighters</td>\n",
              "      <td>1999</td>\n",
              "    </tr>\n",
              "  </tbody>\n",
              "</table>\n",
              "</div>"
            ],
            "text/plain": [
              "                                    user_id             song_id  listen_count  \\\n",
              "0  b80344d063b5ccb3212f76538f3d9e43d87dca9e  SOAKIMP12A8C130995             1   \n",
              "1  b80344d063b5ccb3212f76538f3d9e43d87dca9e  SOBBMDR12A8C13253B             2   \n",
              "2  b80344d063b5ccb3212f76538f3d9e43d87dca9e  SOBXHDL12A81C204C0             1   \n",
              "3  b80344d063b5ccb3212f76538f3d9e43d87dca9e  SOBYHAJ12A6701BF1D             1   \n",
              "4  b80344d063b5ccb3212f76538f3d9e43d87dca9e  SODACBL12A8C13C273             1   \n",
              "\n",
              "             title                        release    artist_name  year  \n",
              "0         The Cove             Thicker Than Water   Jack Johnson     0  \n",
              "1  Entre Dos Aguas            Flamenco Para Niños  Paco De Lucia  1976  \n",
              "2         Stronger                     Graduation     Kanye West  2007  \n",
              "3   Constellations              In Between Dreams   Jack Johnson  2005  \n",
              "4     Learn To Fly  There Is Nothing Left To Lose   Foo Fighters  1999  "
            ]
          },
          "metadata": {
            "tags": []
          },
          "execution_count": 38
        }
      ]
    },
    {
      "metadata": {
        "id": "Bn7rXIlrihlh",
        "colab_type": "code",
        "colab": {
          "autoexec": {
            "startup": false,
            "wait_interval": 0
          },
          "output_extras": [
            {
              "item_id": 1
            }
          ],
          "base_uri": "https://localhost:8080/",
          "height": 34
        },
        "outputId": "eca82889-905f-4bc2-ac06-a38f417b3066",
        "executionInfo": {
          "status": "ok",
          "timestamp": 1518037245774,
          "user_tz": -330,
          "elapsed": 1130,
          "user": {
            "displayName": "Suraj",
            "photoUrl": "//lh5.googleusercontent.com/-n0XOqm4pzzY/AAAAAAAAAAI/AAAAAAAAGMk/QR2xoSjmXbk/s50-c-k-no/photo.jpg",
            "userId": "108764986987181223074"
          }
        }
      },
      "cell_type": "code",
      "source": [
        "len(song_df)"
      ],
      "execution_count": 39,
      "outputs": [
        {
          "output_type": "execute_result",
          "data": {
            "text/plain": [
              "2000000"
            ]
          },
          "metadata": {
            "tags": []
          },
          "execution_count": 39
        }
      ]
    },
    {
      "metadata": {
        "id": "8yvwkQn8jj9s",
        "colab_type": "code",
        "colab": {
          "autoexec": {
            "startup": false,
            "wait_interval": 0
          }
        }
      },
      "cell_type": "code",
      "source": [
        "#Merge song title and artist_name columns to make a merged column\n",
        "song_df=song_df[1:10000]\n",
        "song_df['song'] = song_df['title'].map(str) + \" - \" + song_df['artist_name']"
      ],
      "execution_count": 0,
      "outputs": []
    },
    {
      "metadata": {
        "id": "LuuwHQ0C4Pxa",
        "colab_type": "code",
        "colab": {
          "autoexec": {
            "startup": false,
            "wait_interval": 0
          },
          "output_extras": [
            {
              "item_id": 1
            }
          ],
          "base_uri": "https://localhost:8080/",
          "height": 34
        },
        "outputId": "35efb270-80ad-479b-c5e8-2d7577c5a631",
        "executionInfo": {
          "status": "ok",
          "timestamp": 1518037250276,
          "user_tz": -330,
          "elapsed": 2834,
          "user": {
            "displayName": "Suraj",
            "photoUrl": "//lh5.googleusercontent.com/-n0XOqm4pzzY/AAAAAAAAAAI/AAAAAAAAGMk/QR2xoSjmXbk/s50-c-k-no/photo.jpg",
            "userId": "108764986987181223074"
          }
        }
      },
      "cell_type": "code",
      "source": [
        "len(song_df)"
      ],
      "execution_count": 41,
      "outputs": [
        {
          "output_type": "execute_result",
          "data": {
            "text/plain": [
              "9999"
            ]
          },
          "metadata": {
            "tags": []
          },
          "execution_count": 41
        }
      ]
    },
    {
      "metadata": {
        "id": "B88LIghX4H5u",
        "colab_type": "text"
      },
      "cell_type": "markdown",
      "source": [
        "Trimmed songs to 1,000 for faster training, you can always remove this for training on entire data"
      ]
    },
    {
      "metadata": {
        "id": "sNEVHEHwjtBc",
        "colab_type": "code",
        "colab": {
          "autoexec": {
            "startup": false,
            "wait_interval": 0
          },
          "output_extras": [
            {
              "item_id": 1
            }
          ],
          "base_uri": "https://localhost:8080/",
          "height": 1907
        },
        "outputId": "9c8bb40c-a33f-41f6-fb61-4a5097c0d8b8",
        "executionInfo": {
          "status": "ok",
          "timestamp": 1518037251871,
          "user_tz": -330,
          "elapsed": 1478,
          "user": {
            "displayName": "Suraj",
            "photoUrl": "//lh5.googleusercontent.com/-n0XOqm4pzzY/AAAAAAAAAAI/AAAAAAAAGMk/QR2xoSjmXbk/s50-c-k-no/photo.jpg",
            "userId": "108764986987181223074"
          }
        }
      },
      "cell_type": "code",
      "source": [
        "#Displaying the  most popular songs\n",
        "song_grouped = song_df.groupby(['song']).agg({'listen_count': 'count'}).reset_index()\n",
        "grouped_sum = song_grouped['listen_count'].sum()\n",
        "song_grouped['percentage']  = song_grouped['listen_count'].div(grouped_sum)*100\n",
        "song_grouped.sort_values(['listen_count', 'song'], ascending = [0,1])"
      ],
      "execution_count": 42,
      "outputs": [
        {
          "output_type": "execute_result",
          "data": {
            "text/html": [
              "<div>\n",
              "<style scoped>\n",
              "    .dataframe tbody tr th:only-of-type {\n",
              "        vertical-align: middle;\n",
              "    }\n",
              "\n",
              "    .dataframe tbody tr th {\n",
              "        vertical-align: top;\n",
              "    }\n",
              "\n",
              "    .dataframe thead th {\n",
              "        text-align: right;\n",
              "    }\n",
              "</style>\n",
              "<table border=\"1\" class=\"dataframe\">\n",
              "  <thead>\n",
              "    <tr style=\"text-align: right;\">\n",
              "      <th></th>\n",
              "      <th>song</th>\n",
              "      <th>listen_count</th>\n",
              "      <th>percentage</th>\n",
              "    </tr>\n",
              "  </thead>\n",
              "  <tbody>\n",
              "    <tr>\n",
              "      <th>3660</th>\n",
              "      <td>Sehr kosmisch - Harmonia</td>\n",
              "      <td>45</td>\n",
              "      <td>0.450045</td>\n",
              "    </tr>\n",
              "    <tr>\n",
              "      <th>4677</th>\n",
              "      <td>Undo - Björk</td>\n",
              "      <td>32</td>\n",
              "      <td>0.320032</td>\n",
              "    </tr>\n",
              "    <tr>\n",
              "      <th>5104</th>\n",
              "      <td>You're The One - Dwight Yoakam</td>\n",
              "      <td>32</td>\n",
              "      <td>0.320032</td>\n",
              "    </tr>\n",
              "    <tr>\n",
              "      <th>1071</th>\n",
              "      <td>Dog Days Are Over (Radio Edit) - Florence + Th...</td>\n",
              "      <td>28</td>\n",
              "      <td>0.280028</td>\n",
              "    </tr>\n",
              "    <tr>\n",
              "      <th>3655</th>\n",
              "      <td>Secrets - OneRepublic</td>\n",
              "      <td>28</td>\n",
              "      <td>0.280028</td>\n",
              "    </tr>\n",
              "    <tr>\n",
              "      <th>4377</th>\n",
              "      <td>The Scientist - Coldplay</td>\n",
              "      <td>27</td>\n",
              "      <td>0.270027</td>\n",
              "    </tr>\n",
              "    <tr>\n",
              "      <th>4711</th>\n",
              "      <td>Use Somebody - Kings Of Leon</td>\n",
              "      <td>27</td>\n",
              "      <td>0.270027</td>\n",
              "    </tr>\n",
              "    <tr>\n",
              "      <th>3476</th>\n",
              "      <td>Revelry - Kings Of Leon</td>\n",
              "      <td>26</td>\n",
              "      <td>0.260026</td>\n",
              "    </tr>\n",
              "    <tr>\n",
              "      <th>1387</th>\n",
              "      <td>Fireflies - Charttraxx Karaoke</td>\n",
              "      <td>24</td>\n",
              "      <td>0.240024</td>\n",
              "    </tr>\n",
              "    <tr>\n",
              "      <th>1862</th>\n",
              "      <td>Horn Concerto No. 4 in E flat K495: II. Romanc...</td>\n",
              "      <td>23</td>\n",
              "      <td>0.230023</td>\n",
              "    </tr>\n",
              "    <tr>\n",
              "      <th>1805</th>\n",
              "      <td>Hey_ Soul Sister - Train</td>\n",
              "      <td>22</td>\n",
              "      <td>0.220022</td>\n",
              "    </tr>\n",
              "    <tr>\n",
              "      <th>5031</th>\n",
              "      <td>Yellow - Coldplay</td>\n",
              "      <td>22</td>\n",
              "      <td>0.220022</td>\n",
              "    </tr>\n",
              "    <tr>\n",
              "      <th>808</th>\n",
              "      <td>Clocks - Coldplay</td>\n",
              "      <td>21</td>\n",
              "      <td>0.210021</td>\n",
              "    </tr>\n",
              "    <tr>\n",
              "      <th>2620</th>\n",
              "      <td>Lucky (Album Version) - Jason Mraz &amp; Colbie Ca...</td>\n",
              "      <td>20</td>\n",
              "      <td>0.200020</td>\n",
              "    </tr>\n",
              "    <tr>\n",
              "      <th>2299</th>\n",
              "      <td>Just Dance - Lady GaGa / Colby O'Donis</td>\n",
              "      <td>19</td>\n",
              "      <td>0.190019</td>\n",
              "    </tr>\n",
              "    <tr>\n",
              "      <th>456</th>\n",
              "      <td>Billionaire [feat. Bruno Mars]  (Explicit Albu...</td>\n",
              "      <td>18</td>\n",
              "      <td>0.180018</td>\n",
              "    </tr>\n",
              "    <tr>\n",
              "      <th>2689</th>\n",
              "      <td>Marry Me - Train</td>\n",
              "      <td>18</td>\n",
              "      <td>0.180018</td>\n",
              "    </tr>\n",
              "    <tr>\n",
              "      <th>3064</th>\n",
              "      <td>OMG - Usher featuring will.i.am</td>\n",
              "      <td>18</td>\n",
              "      <td>0.180018</td>\n",
              "    </tr>\n",
              "    <tr>\n",
              "      <th>4542</th>\n",
              "      <td>Tive Sim - Cartola</td>\n",
              "      <td>18</td>\n",
              "      <td>0.180018</td>\n",
              "    </tr>\n",
              "    <tr>\n",
              "      <th>142</th>\n",
              "      <td>Alejandro - Lady GaGa</td>\n",
              "      <td>17</td>\n",
              "      <td>0.170017</td>\n",
              "    </tr>\n",
              "    <tr>\n",
              "      <th>726</th>\n",
              "      <td>Catch You Baby (Steve Pitron &amp; Max Sanna Radio...</td>\n",
              "      <td>17</td>\n",
              "      <td>0.170017</td>\n",
              "    </tr>\n",
              "    <tr>\n",
              "      <th>1410</th>\n",
              "      <td>Float On - Modest Mouse</td>\n",
              "      <td>17</td>\n",
              "      <td>0.170017</td>\n",
              "    </tr>\n",
              "    <tr>\n",
              "      <th>3868</th>\n",
              "      <td>Somebody To Love - Justin Bieber</td>\n",
              "      <td>17</td>\n",
              "      <td>0.170017</td>\n",
              "    </tr>\n",
              "    <tr>\n",
              "      <th>631</th>\n",
              "      <td>Bulletproof - La Roux</td>\n",
              "      <td>16</td>\n",
              "      <td>0.160016</td>\n",
              "    </tr>\n",
              "    <tr>\n",
              "      <th>1143</th>\n",
              "      <td>Drop The World - Lil Wayne / Eminem</td>\n",
              "      <td>16</td>\n",
              "      <td>0.160016</td>\n",
              "    </tr>\n",
              "    <tr>\n",
              "      <th>3038</th>\n",
              "      <td>Nothin' On You [feat. Bruno Mars] (Album Versi...</td>\n",
              "      <td>16</td>\n",
              "      <td>0.160016</td>\n",
              "    </tr>\n",
              "    <tr>\n",
              "      <th>4464</th>\n",
              "      <td>They Might Follow You - Tiny Vipers</td>\n",
              "      <td>16</td>\n",
              "      <td>0.160016</td>\n",
              "    </tr>\n",
              "    <tr>\n",
              "      <th>870</th>\n",
              "      <td>Cosmic Love - Florence + The Machine</td>\n",
              "      <td>15</td>\n",
              "      <td>0.150015</td>\n",
              "    </tr>\n",
              "    <tr>\n",
              "      <th>899</th>\n",
              "      <td>Creep (Explicit) - Radiohead</td>\n",
              "      <td>15</td>\n",
              "      <td>0.150015</td>\n",
              "    </tr>\n",
              "    <tr>\n",
              "      <th>1680</th>\n",
              "      <td>Halo - Beyoncé</td>\n",
              "      <td>15</td>\n",
              "      <td>0.150015</td>\n",
              "    </tr>\n",
              "    <tr>\n",
              "      <th>...</th>\n",
              "      <td>...</td>\n",
              "      <td>...</td>\n",
              "      <td>...</td>\n",
              "    </tr>\n",
              "    <tr>\n",
              "      <th>5093</th>\n",
              "      <td>You Yourself are Too Serious - The Mercury Pro...</td>\n",
              "      <td>1</td>\n",
              "      <td>0.010001</td>\n",
              "    </tr>\n",
              "    <tr>\n",
              "      <th>5097</th>\n",
              "      <td>You'll Never Know (My Love) (Bovellian 07 Mix)...</td>\n",
              "      <td>1</td>\n",
              "      <td>0.010001</td>\n",
              "    </tr>\n",
              "    <tr>\n",
              "      <th>5099</th>\n",
              "      <td>You're A Wolf (Album) - Sea Wolf</td>\n",
              "      <td>1</td>\n",
              "      <td>0.010001</td>\n",
              "    </tr>\n",
              "    <tr>\n",
              "      <th>5101</th>\n",
              "      <td>You're Gonna Miss Me When I'm Gone - Brooks &amp; ...</td>\n",
              "      <td>1</td>\n",
              "      <td>0.010001</td>\n",
              "    </tr>\n",
              "    <tr>\n",
              "      <th>5102</th>\n",
              "      <td>You're Not Alone - ATB</td>\n",
              "      <td>1</td>\n",
              "      <td>0.010001</td>\n",
              "    </tr>\n",
              "    <tr>\n",
              "      <th>5103</th>\n",
              "      <td>You're Not Alone - Olive</td>\n",
              "      <td>1</td>\n",
              "      <td>0.010001</td>\n",
              "    </tr>\n",
              "    <tr>\n",
              "      <th>5107</th>\n",
              "      <td>You've Passed - Neutral Milk Hotel</td>\n",
              "      <td>1</td>\n",
              "      <td>0.010001</td>\n",
              "    </tr>\n",
              "    <tr>\n",
              "      <th>5108</th>\n",
              "      <td>Young - Hollywood Undead</td>\n",
              "      <td>1</td>\n",
              "      <td>0.010001</td>\n",
              "    </tr>\n",
              "    <tr>\n",
              "      <th>5110</th>\n",
              "      <td>Younger Than Springtime - William Tabbert</td>\n",
              "      <td>1</td>\n",
              "      <td>0.010001</td>\n",
              "    </tr>\n",
              "    <tr>\n",
              "      <th>5111</th>\n",
              "      <td>Your Arms Feel Like home - 3 Doors Down</td>\n",
              "      <td>1</td>\n",
              "      <td>0.010001</td>\n",
              "    </tr>\n",
              "    <tr>\n",
              "      <th>5112</th>\n",
              "      <td>Your Every Idol - Telefon Tel Aviv</td>\n",
              "      <td>1</td>\n",
              "      <td>0.010001</td>\n",
              "    </tr>\n",
              "    <tr>\n",
              "      <th>5113</th>\n",
              "      <td>Your Ex-Lover Is Dead (Album Version) - Stars</td>\n",
              "      <td>1</td>\n",
              "      <td>0.010001</td>\n",
              "    </tr>\n",
              "    <tr>\n",
              "      <th>5114</th>\n",
              "      <td>Your Guardian Angel - The Red Jumpsuit Apparatus</td>\n",
              "      <td>1</td>\n",
              "      <td>0.010001</td>\n",
              "    </tr>\n",
              "    <tr>\n",
              "      <th>5116</th>\n",
              "      <td>Your House - Jimmy Eat World</td>\n",
              "      <td>1</td>\n",
              "      <td>0.010001</td>\n",
              "    </tr>\n",
              "    <tr>\n",
              "      <th>5117</th>\n",
              "      <td>Your Love - The Outfield</td>\n",
              "      <td>1</td>\n",
              "      <td>0.010001</td>\n",
              "    </tr>\n",
              "    <tr>\n",
              "      <th>5120</th>\n",
              "      <td>Your Mouth - Telefon Tel Aviv</td>\n",
              "      <td>1</td>\n",
              "      <td>0.010001</td>\n",
              "    </tr>\n",
              "    <tr>\n",
              "      <th>5122</th>\n",
              "      <td>Your Song (Alternate Take 10) - Cilla Black</td>\n",
              "      <td>1</td>\n",
              "      <td>0.010001</td>\n",
              "    </tr>\n",
              "    <tr>\n",
              "      <th>5125</th>\n",
              "      <td>Your Visits Are Getting Shorter - Bloc Party</td>\n",
              "      <td>1</td>\n",
              "      <td>0.010001</td>\n",
              "    </tr>\n",
              "    <tr>\n",
              "      <th>5126</th>\n",
              "      <td>Your Woman - White Town</td>\n",
              "      <td>1</td>\n",
              "      <td>0.010001</td>\n",
              "    </tr>\n",
              "    <tr>\n",
              "      <th>5129</th>\n",
              "      <td>Ze Rook Naar Rozen - Rob De Nijs</td>\n",
              "      <td>1</td>\n",
              "      <td>0.010001</td>\n",
              "    </tr>\n",
              "    <tr>\n",
              "      <th>5130</th>\n",
              "      <td>Zebra - Beach House</td>\n",
              "      <td>1</td>\n",
              "      <td>0.010001</td>\n",
              "    </tr>\n",
              "    <tr>\n",
              "      <th>5131</th>\n",
              "      <td>Zebra - Man Man</td>\n",
              "      <td>1</td>\n",
              "      <td>0.010001</td>\n",
              "    </tr>\n",
              "    <tr>\n",
              "      <th>5132</th>\n",
              "      <td>Zero - The Pain Machinery</td>\n",
              "      <td>1</td>\n",
              "      <td>0.010001</td>\n",
              "    </tr>\n",
              "    <tr>\n",
              "      <th>5134</th>\n",
              "      <td>Zopf: Pigtail - Penguin Café Orchestra</td>\n",
              "      <td>1</td>\n",
              "      <td>0.010001</td>\n",
              "    </tr>\n",
              "    <tr>\n",
              "      <th>5136</th>\n",
              "      <td>aNYway - Armand Van Helden &amp; A-TRAK Present Du...</td>\n",
              "      <td>1</td>\n",
              "      <td>0.010001</td>\n",
              "    </tr>\n",
              "    <tr>\n",
              "      <th>5138</th>\n",
              "      <td>high fives - Four Tet</td>\n",
              "      <td>1</td>\n",
              "      <td>0.010001</td>\n",
              "    </tr>\n",
              "    <tr>\n",
              "      <th>5139</th>\n",
              "      <td>in white rooms - Booka Shade</td>\n",
              "      <td>1</td>\n",
              "      <td>0.010001</td>\n",
              "    </tr>\n",
              "    <tr>\n",
              "      <th>5142</th>\n",
              "      <td>paranoid android - Christopher O'Riley</td>\n",
              "      <td>1</td>\n",
              "      <td>0.010001</td>\n",
              "    </tr>\n",
              "    <tr>\n",
              "      <th>5148</th>\n",
              "      <td>¿Lo Ves? [Piano Y Voz] - Alejandro Sanz</td>\n",
              "      <td>1</td>\n",
              "      <td>0.010001</td>\n",
              "    </tr>\n",
              "    <tr>\n",
              "      <th>5149</th>\n",
              "      <td>Época - Gotan Project</td>\n",
              "      <td>1</td>\n",
              "      <td>0.010001</td>\n",
              "    </tr>\n",
              "  </tbody>\n",
              "</table>\n",
              "<p>5150 rows × 3 columns</p>\n",
              "</div>"
            ],
            "text/plain": [
              "                                                   song  listen_count  \\\n",
              "3660                           Sehr kosmisch - Harmonia            45   \n",
              "4677                                       Undo - Björk            32   \n",
              "5104                     You're The One - Dwight Yoakam            32   \n",
              "1071  Dog Days Are Over (Radio Edit) - Florence + Th...            28   \n",
              "3655                              Secrets - OneRepublic            28   \n",
              "4377                           The Scientist - Coldplay            27   \n",
              "4711                       Use Somebody - Kings Of Leon            27   \n",
              "3476                            Revelry - Kings Of Leon            26   \n",
              "1387                     Fireflies - Charttraxx Karaoke            24   \n",
              "1862  Horn Concerto No. 4 in E flat K495: II. Romanc...            23   \n",
              "1805                           Hey_ Soul Sister - Train            22   \n",
              "5031                                  Yellow - Coldplay            22   \n",
              "808                                   Clocks - Coldplay            21   \n",
              "2620  Lucky (Album Version) - Jason Mraz & Colbie Ca...            20   \n",
              "2299             Just Dance - Lady GaGa / Colby O'Donis            19   \n",
              "456   Billionaire [feat. Bruno Mars]  (Explicit Albu...            18   \n",
              "2689                                   Marry Me - Train            18   \n",
              "3064                    OMG - Usher featuring will.i.am            18   \n",
              "4542                                 Tive Sim - Cartola            18   \n",
              "142                               Alejandro - Lady GaGa            17   \n",
              "726   Catch You Baby (Steve Pitron & Max Sanna Radio...            17   \n",
              "1410                            Float On - Modest Mouse            17   \n",
              "3868                   Somebody To Love - Justin Bieber            17   \n",
              "631                               Bulletproof - La Roux            16   \n",
              "1143                Drop The World - Lil Wayne / Eminem            16   \n",
              "3038  Nothin' On You [feat. Bruno Mars] (Album Versi...            16   \n",
              "4464                They Might Follow You - Tiny Vipers            16   \n",
              "870                Cosmic Love - Florence + The Machine            15   \n",
              "899                        Creep (Explicit) - Radiohead            15   \n",
              "1680                                     Halo - Beyoncé            15   \n",
              "...                                                 ...           ...   \n",
              "5093  You Yourself are Too Serious - The Mercury Pro...             1   \n",
              "5097  You'll Never Know (My Love) (Bovellian 07 Mix)...             1   \n",
              "5099                   You're A Wolf (Album) - Sea Wolf             1   \n",
              "5101  You're Gonna Miss Me When I'm Gone - Brooks & ...             1   \n",
              "5102                             You're Not Alone - ATB             1   \n",
              "5103                           You're Not Alone - Olive             1   \n",
              "5107                 You've Passed - Neutral Milk Hotel             1   \n",
              "5108                           Young - Hollywood Undead             1   \n",
              "5110          Younger Than Springtime - William Tabbert             1   \n",
              "5111            Your Arms Feel Like home - 3 Doors Down             1   \n",
              "5112                 Your Every Idol - Telefon Tel Aviv             1   \n",
              "5113      Your Ex-Lover Is Dead (Album Version) - Stars             1   \n",
              "5114   Your Guardian Angel - The Red Jumpsuit Apparatus             1   \n",
              "5116                       Your House - Jimmy Eat World             1   \n",
              "5117                           Your Love - The Outfield             1   \n",
              "5120                      Your Mouth - Telefon Tel Aviv             1   \n",
              "5122        Your Song (Alternate Take 10) - Cilla Black             1   \n",
              "5125       Your Visits Are Getting Shorter - Bloc Party             1   \n",
              "5126                            Your Woman - White Town             1   \n",
              "5129                   Ze Rook Naar Rozen - Rob De Nijs             1   \n",
              "5130                                Zebra - Beach House             1   \n",
              "5131                                    Zebra - Man Man             1   \n",
              "5132                          Zero - The Pain Machinery             1   \n",
              "5134             Zopf: Pigtail - Penguin Café Orchestra             1   \n",
              "5136  aNYway - Armand Van Helden & A-TRAK Present Du...             1   \n",
              "5138                              high fives - Four Tet             1   \n",
              "5139                       in white rooms - Booka Shade             1   \n",
              "5142             paranoid android - Christopher O'Riley             1   \n",
              "5148            ¿Lo Ves? [Piano Y Voz] - Alejandro Sanz             1   \n",
              "5149                              Época - Gotan Project             1   \n",
              "\n",
              "      percentage  \n",
              "3660    0.450045  \n",
              "4677    0.320032  \n",
              "5104    0.320032  \n",
              "1071    0.280028  \n",
              "3655    0.280028  \n",
              "4377    0.270027  \n",
              "4711    0.270027  \n",
              "3476    0.260026  \n",
              "1387    0.240024  \n",
              "1862    0.230023  \n",
              "1805    0.220022  \n",
              "5031    0.220022  \n",
              "808     0.210021  \n",
              "2620    0.200020  \n",
              "2299    0.190019  \n",
              "456     0.180018  \n",
              "2689    0.180018  \n",
              "3064    0.180018  \n",
              "4542    0.180018  \n",
              "142     0.170017  \n",
              "726     0.170017  \n",
              "1410    0.170017  \n",
              "3868    0.170017  \n",
              "631     0.160016  \n",
              "1143    0.160016  \n",
              "3038    0.160016  \n",
              "4464    0.160016  \n",
              "870     0.150015  \n",
              "899     0.150015  \n",
              "1680    0.150015  \n",
              "...          ...  \n",
              "5093    0.010001  \n",
              "5097    0.010001  \n",
              "5099    0.010001  \n",
              "5101    0.010001  \n",
              "5102    0.010001  \n",
              "5103    0.010001  \n",
              "5107    0.010001  \n",
              "5108    0.010001  \n",
              "5110    0.010001  \n",
              "5111    0.010001  \n",
              "5112    0.010001  \n",
              "5113    0.010001  \n",
              "5114    0.010001  \n",
              "5116    0.010001  \n",
              "5117    0.010001  \n",
              "5120    0.010001  \n",
              "5122    0.010001  \n",
              "5125    0.010001  \n",
              "5126    0.010001  \n",
              "5129    0.010001  \n",
              "5130    0.010001  \n",
              "5131    0.010001  \n",
              "5132    0.010001  \n",
              "5134    0.010001  \n",
              "5136    0.010001  \n",
              "5138    0.010001  \n",
              "5139    0.010001  \n",
              "5142    0.010001  \n",
              "5148    0.010001  \n",
              "5149    0.010001  \n",
              "\n",
              "[5150 rows x 3 columns]"
            ]
          },
          "metadata": {
            "tags": []
          },
          "execution_count": 42
        }
      ]
    },
    {
      "metadata": {
        "id": "us5HXTFlkuUF",
        "colab_type": "code",
        "colab": {
          "autoexec": {
            "startup": false,
            "wait_interval": 0
          },
          "output_extras": [
            {
              "item_id": 1
            }
          ],
          "base_uri": "https://localhost:8080/",
          "height": 34
        },
        "outputId": "1c8b2c1f-efb9-4aef-97d5-8c863a8ac155",
        "executionInfo": {
          "status": "ok",
          "timestamp": 1518037253018,
          "user_tz": -330,
          "elapsed": 1010,
          "user": {
            "displayName": "Suraj",
            "photoUrl": "//lh5.googleusercontent.com/-n0XOqm4pzzY/AAAAAAAAAAI/AAAAAAAAGMk/QR2xoSjmXbk/s50-c-k-no/photo.jpg",
            "userId": "108764986987181223074"
          }
        }
      },
      "cell_type": "code",
      "source": [
        "#Counting number of individual users\n",
        "users = song_df['user_id'].unique()\n",
        "len(users)"
      ],
      "execution_count": 43,
      "outputs": [
        {
          "output_type": "execute_result",
          "data": {
            "text/plain": [
              "365"
            ]
          },
          "metadata": {
            "tags": []
          },
          "execution_count": 43
        }
      ]
    },
    {
      "metadata": {
        "id": "RdPKvpNelK-t",
        "colab_type": "code",
        "colab": {
          "autoexec": {
            "startup": false,
            "wait_interval": 0
          },
          "output_extras": [
            {
              "item_id": 1
            }
          ],
          "base_uri": "https://localhost:8080/",
          "height": 497
        },
        "outputId": "87e2dbea-ec01-4997-fc7d-076f4c699508",
        "executionInfo": {
          "status": "ok",
          "timestamp": 1518037254439,
          "user_tz": -330,
          "elapsed": 1308,
          "user": {
            "displayName": "Suraj",
            "photoUrl": "//lh5.googleusercontent.com/-n0XOqm4pzzY/AAAAAAAAAAI/AAAAAAAAGMk/QR2xoSjmXbk/s50-c-k-no/photo.jpg",
            "userId": "108764986987181223074"
          }
        }
      },
      "cell_type": "code",
      "source": [
        "#splitting the data into training and testing data\n",
        "train_data, test_data = train_test_split(song_df, test_size = 0.20, random_state=0)\n",
        "print(train_data.head(5))"
      ],
      "execution_count": 44,
      "outputs": [
        {
          "output_type": "stream",
          "text": [
            "                                       user_id             song_id  \\\n",
            "7389  94d5bdc37683950e90c56c9b32721edb5d347600  SOXNZOW12AB017F756   \n",
            "9275  1012ecfd277b96487ed8357d02fa8326b13696a5  SOXHYVQ12AB0187949   \n",
            "2996  15415fa2745b344bce958967c346f2a89f792f63  SOPTXDZ12A8C13518C   \n",
            "5317  ffadf9297a99945c0513cd87939d91d8b602936b  SOWOZLK12A8C136B33   \n",
            "357   5a905f000fc1ff3df7ca807d57edb608863db05d  SOAOBEK12AF72A9021   \n",
            "\n",
            "      listen_count                 title  \\\n",
            "7389             2      Half Of My Heart   \n",
            "9275             1  The Beautiful People   \n",
            "2996             2    Un Aro En La Nariz   \n",
            "5317             1   Doin' The Cockroach   \n",
            "357              1            Tchaparian   \n",
            "\n",
            "                                     release     artist_name  year  \\\n",
            "7389                          Battle Studies      John Mayer     0   \n",
            "9275  Antichrist Superstar (Ecopac Explicit)  Marilyn Manson     0   \n",
            "2996                           //:Tres.Jeans  Jeans (Mexico)     0   \n",
            "5317          Baron Von Bullshit Rides Again    Modest Mouse  1997   \n",
            "357                              The Warning        Hot Chip  2006   \n",
            "\n",
            "                                       song  \n",
            "7389          Half Of My Heart - John Mayer  \n",
            "9275  The Beautiful People - Marilyn Manson  \n",
            "2996    Un Aro En La Nariz - Jeans (Mexico)  \n",
            "5317     Doin' The Cockroach - Modest Mouse  \n",
            "357                   Tchaparian - Hot Chip  \n"
          ],
          "name": "stdout"
        }
      ]
    },
    {
      "metadata": {
        "id": "OnZ_B5aelphT",
        "colab_type": "code",
        "colab": {
          "autoexec": {
            "startup": false,
            "wait_interval": 0
          }
        }
      },
      "cell_type": "code",
      "source": [
        "#creating Class of Recommender\n",
        "\n",
        "import numpy as np\n",
        "import pandas\n",
        "\n",
        "#Class for Popularity based Recommender System model\n",
        "#works on the listen count principle\n",
        "class popularity_recommender_py():\n",
        "    def __init__(self):\n",
        "        self.train_data = None\n",
        "        self.user_id = None\n",
        "        self.item_id = None\n",
        "        self.popularity_recommendations = None\n",
        "        \n",
        "    #Create the popularity based recommender system model\n",
        "    def create(self, train_data, user_id, item_id):\n",
        "        self.train_data = train_data\n",
        "        self.user_id = user_id\n",
        "        self.item_id = item_id\n",
        "\n",
        "        #Get a count of user_ids for each unique song as recommendation score\n",
        "        train_data_grouped = train_data.groupby([self.item_id]).agg({self.user_id: 'count'}).reset_index()\n",
        "        train_data_grouped.rename(columns = {'user_id': 'score'},inplace=True)\n",
        "    \n",
        "        #Sort the songs based upon recommendation score\n",
        "        train_data_sort = train_data_grouped.sort_values(['score', self.item_id], ascending = [0,1])\n",
        "    \n",
        "        #Generate a recommendation rank based upon score\n",
        "        train_data_sort['Rank'] = train_data_sort['score'].rank(ascending=0, method='first')\n",
        "        \n",
        "        #Get the top 10 recommendations\n",
        "        self.popularity_recommendations = train_data_sort.head(10)\n",
        "\n",
        "    #Use the popularity based recommender system model to\n",
        "    #make recommendations\n",
        "    def recommend(self, user_id):    \n",
        "        user_recommendations = self.popularity_recommendations\n",
        "        \n",
        "        #Add user_id column for which the recommendations are being generated\n",
        "        user_recommendations['user_id'] = user_id\n",
        "    \n",
        "        #Bring user_id column to the front\n",
        "        cols = user_recommendations.columns.tolist()\n",
        "        cols = cols[-1:] + cols[:-1]\n",
        "        user_recommendations = user_recommendations[cols]\n",
        "        \n",
        "        return user_recommendations\n",
        "    "
      ],
      "execution_count": 0,
      "outputs": []
    },
    {
      "metadata": {
        "id": "9D02FcKOvLKg",
        "colab_type": "code",
        "colab": {
          "autoexec": {
            "startup": false,
            "wait_interval": 0
          }
        }
      },
      "cell_type": "code",
      "source": [
        "#creating an instance of popularity\n",
        "recommender_instance = popularity_recommender_py()\n",
        "recommender_instance.create(train_data, 'user_id', 'song')"
      ],
      "execution_count": 0,
      "outputs": []
    },
    {
      "metadata": {
        "id": "WLJZLyv-vhG6",
        "colab_type": "code",
        "colab": {
          "autoexec": {
            "startup": false,
            "wait_interval": 0
          },
          "output_extras": [
            {
              "item_id": 1
            }
          ],
          "base_uri": "https://localhost:8080/",
          "height": 348
        },
        "outputId": "3ff8381d-5e6e-46ed-a3ee-4950d99aa356",
        "executionInfo": {
          "status": "ok",
          "timestamp": 1518037259323,
          "user_tz": -330,
          "elapsed": 1992,
          "user": {
            "displayName": "Suraj",
            "photoUrl": "//lh5.googleusercontent.com/-n0XOqm4pzzY/AAAAAAAAAAI/AAAAAAAAGMk/QR2xoSjmXbk/s50-c-k-no/photo.jpg",
            "userId": "108764986987181223074"
          }
        }
      },
      "cell_type": "code",
      "source": [
        "#Using the popularity recommender model to make predictions\n",
        "user_id = users[1]\n",
        "recommender_instance.recommend(user_id)"
      ],
      "execution_count": 47,
      "outputs": [
        {
          "output_type": "execute_result",
          "data": {
            "text/html": [
              "<div>\n",
              "<style scoped>\n",
              "    .dataframe tbody tr th:only-of-type {\n",
              "        vertical-align: middle;\n",
              "    }\n",
              "\n",
              "    .dataframe tbody tr th {\n",
              "        vertical-align: top;\n",
              "    }\n",
              "\n",
              "    .dataframe thead th {\n",
              "        text-align: right;\n",
              "    }\n",
              "</style>\n",
              "<table border=\"1\" class=\"dataframe\">\n",
              "  <thead>\n",
              "    <tr style=\"text-align: right;\">\n",
              "      <th></th>\n",
              "      <th>user_id</th>\n",
              "      <th>song</th>\n",
              "      <th>score</th>\n",
              "      <th>Rank</th>\n",
              "    </tr>\n",
              "  </thead>\n",
              "  <tbody>\n",
              "    <tr>\n",
              "      <th>3182</th>\n",
              "      <td>85c1f87fea955d09b4bec2e36aee110927aedf9a</td>\n",
              "      <td>Sehr kosmisch - Harmonia</td>\n",
              "      <td>39</td>\n",
              "      <td>1.0</td>\n",
              "    </tr>\n",
              "    <tr>\n",
              "      <th>4070</th>\n",
              "      <td>85c1f87fea955d09b4bec2e36aee110927aedf9a</td>\n",
              "      <td>Undo - Björk</td>\n",
              "      <td>29</td>\n",
              "      <td>2.0</td>\n",
              "    </tr>\n",
              "    <tr>\n",
              "      <th>4435</th>\n",
              "      <td>85c1f87fea955d09b4bec2e36aee110927aedf9a</td>\n",
              "      <td>You're The One - Dwight Yoakam</td>\n",
              "      <td>27</td>\n",
              "      <td>3.0</td>\n",
              "    </tr>\n",
              "    <tr>\n",
              "      <th>933</th>\n",
              "      <td>85c1f87fea955d09b4bec2e36aee110927aedf9a</td>\n",
              "      <td>Dog Days Are Over (Radio Edit) - Florence + Th...</td>\n",
              "      <td>25</td>\n",
              "      <td>4.0</td>\n",
              "    </tr>\n",
              "    <tr>\n",
              "      <th>3809</th>\n",
              "      <td>85c1f87fea955d09b4bec2e36aee110927aedf9a</td>\n",
              "      <td>The Scientist - Coldplay</td>\n",
              "      <td>24</td>\n",
              "      <td>5.0</td>\n",
              "    </tr>\n",
              "    <tr>\n",
              "      <th>1563</th>\n",
              "      <td>85c1f87fea955d09b4bec2e36aee110927aedf9a</td>\n",
              "      <td>Hey_ Soul Sister - Train</td>\n",
              "      <td>20</td>\n",
              "      <td>6.0</td>\n",
              "    </tr>\n",
              "    <tr>\n",
              "      <th>4102</th>\n",
              "      <td>85c1f87fea955d09b4bec2e36aee110927aedf9a</td>\n",
              "      <td>Use Somebody - Kings Of Leon</td>\n",
              "      <td>20</td>\n",
              "      <td>7.0</td>\n",
              "    </tr>\n",
              "    <tr>\n",
              "      <th>1986</th>\n",
              "      <td>85c1f87fea955d09b4bec2e36aee110927aedf9a</td>\n",
              "      <td>Just Dance - Lady GaGa / Colby O'Donis</td>\n",
              "      <td>19</td>\n",
              "      <td>8.0</td>\n",
              "    </tr>\n",
              "    <tr>\n",
              "      <th>2262</th>\n",
              "      <td>85c1f87fea955d09b4bec2e36aee110927aedf9a</td>\n",
              "      <td>Lucky (Album Version) - Jason Mraz &amp; Colbie Ca...</td>\n",
              "      <td>19</td>\n",
              "      <td>9.0</td>\n",
              "    </tr>\n",
              "    <tr>\n",
              "      <th>1199</th>\n",
              "      <td>85c1f87fea955d09b4bec2e36aee110927aedf9a</td>\n",
              "      <td>Fireflies - Charttraxx Karaoke</td>\n",
              "      <td>18</td>\n",
              "      <td>10.0</td>\n",
              "    </tr>\n",
              "  </tbody>\n",
              "</table>\n",
              "</div>"
            ],
            "text/plain": [
              "                                       user_id  \\\n",
              "3182  85c1f87fea955d09b4bec2e36aee110927aedf9a   \n",
              "4070  85c1f87fea955d09b4bec2e36aee110927aedf9a   \n",
              "4435  85c1f87fea955d09b4bec2e36aee110927aedf9a   \n",
              "933   85c1f87fea955d09b4bec2e36aee110927aedf9a   \n",
              "3809  85c1f87fea955d09b4bec2e36aee110927aedf9a   \n",
              "1563  85c1f87fea955d09b4bec2e36aee110927aedf9a   \n",
              "4102  85c1f87fea955d09b4bec2e36aee110927aedf9a   \n",
              "1986  85c1f87fea955d09b4bec2e36aee110927aedf9a   \n",
              "2262  85c1f87fea955d09b4bec2e36aee110927aedf9a   \n",
              "1199  85c1f87fea955d09b4bec2e36aee110927aedf9a   \n",
              "\n",
              "                                                   song  score  Rank  \n",
              "3182                           Sehr kosmisch - Harmonia     39   1.0  \n",
              "4070                                       Undo - Björk     29   2.0  \n",
              "4435                     You're The One - Dwight Yoakam     27   3.0  \n",
              "933   Dog Days Are Over (Radio Edit) - Florence + Th...     25   4.0  \n",
              "3809                           The Scientist - Coldplay     24   5.0  \n",
              "1563                           Hey_ Soul Sister - Train     20   6.0  \n",
              "4102                       Use Somebody - Kings Of Leon     20   7.0  \n",
              "1986             Just Dance - Lady GaGa / Colby O'Donis     19   8.0  \n",
              "2262  Lucky (Album Version) - Jason Mraz & Colbie Ca...     19   9.0  \n",
              "1199                     Fireflies - Charttraxx Karaoke     18  10.0  "
            ]
          },
          "metadata": {
            "tags": []
          },
          "execution_count": 47
        }
      ]
    },
    {
      "metadata": {
        "id": "0ED_VPat3GWJ",
        "colab_type": "code",
        "colab": {
          "autoexec": {
            "startup": false,
            "wait_interval": 0
          }
        }
      },
      "cell_type": "code",
      "source": [
        "\n",
        "#Class for Item similarity based Recommender System model\n",
        "class item_similarity_recommender_py():\n",
        "    def __init__(self):\n",
        "        self.train_data = None\n",
        "        self.user_id = None\n",
        "        self.item_id = None\n",
        "        self.cooccurence_matrix = None\n",
        "        self.songs_dict = None\n",
        "        self.rev_songs_dict = None\n",
        "        self.item_similarity_recommendations = None\n",
        "        \n",
        "    #Get unique items (songs) corresponding to a given user\n",
        "    def get_user_items(self, user):\n",
        "        user_data = self.train_data[self.train_data[self.user_id] == user]\n",
        "        user_items = list(user_data[self.item_id].unique())\n",
        "        \n",
        "        return user_items\n",
        "        \n",
        "    #Get unique users for a given item (song)\n",
        "    def get_item_users(self, item):\n",
        "        item_data = self.train_data[self.train_data[self.item_id] == item]\n",
        "        item_users = set(item_data[self.user_id].unique())\n",
        "            \n",
        "        return item_users\n",
        "        \n",
        "    #Get unique items (songs) in the training data\n",
        "    def get_all_items_train_data(self):\n",
        "        all_items = list(self.train_data[self.item_id].unique())\n",
        "            \n",
        "        return all_items\n",
        "        \n",
        "    #Construct cooccurence matrix\n",
        "    def construct_cooccurence_matrix(self, user_songs, all_songs):\n",
        "            \n",
        "        ####################################\n",
        "        #Get users for all songs in user_songs.\n",
        "        ####################################\n",
        "        user_songs_users = []        \n",
        "        for i in range(0, len(user_songs)):\n",
        "            user_songs_users.append(self.get_item_users(user_songs[i]))\n",
        "            \n",
        "        ###############################################\n",
        "        #Initialize the item cooccurence matrix of size \n",
        "        #len(user_songs) X len(songs)\n",
        "        ###############################################\n",
        "        cooccurence_matrix = np.matrix(np.zeros(shape=(len(user_songs), len(all_songs))), float)\n",
        "           \n",
        "        #############################################################\n",
        "        #Calculate similarity between user songs and all unique songs\n",
        "        #in the training data\n",
        "        #############################################################\n",
        "        for i in tqdm(range(0,len(all_songs))):\n",
        "            #Calculate unique listeners (users) of song (item) i\n",
        "            #print(\" Processing Song #\"+str(i))\n",
        "            songs_i_data = self.train_data[self.train_data[self.item_id] == all_songs[i]]\n",
        "            users_i = set(songs_i_data[self.user_id].unique())\n",
        "            \n",
        "            for j in range(0,len(user_songs)):       \n",
        "                    \n",
        "                #Get unique listeners (users) of song (item) j\n",
        "                users_j = user_songs_users[j]\n",
        "                    \n",
        "                #Calculate intersection of listeners of songs i and j\n",
        "                users_intersection = users_i.intersection(users_j)\n",
        "                \n",
        "                #Calculate cooccurence_matrix[i,j] as Jaccard Index\n",
        "                if len(users_intersection) != 0:\n",
        "                    #Calculate union of listeners of songs i and j\n",
        "                    users_union = users_i.union(users_j)\n",
        "                    \n",
        "                    cooccurence_matrix[j,i] = float(len(users_intersection))/float(len(users_union))\n",
        "                else:\n",
        "                    cooccurence_matrix[j,i] = 0\n",
        "                    \n",
        "        \n",
        "        return cooccurence_matrix\n",
        "\n",
        "    \n",
        "    #Use the cooccurence matrix to make top recommendations\n",
        "    def generate_top_recommendations(self, user, cooccurence_matrix, all_songs, user_songs):\n",
        "        print(\"Non zero values in cooccurence_matrix :%d\" % np.count_nonzero(cooccurence_matrix))\n",
        "        \n",
        "        #Calculate a weighted average of the scores in cooccurence matrix for all user songs.\n",
        "        user_sim_scores = cooccurence_matrix.sum(axis=0)/float(cooccurence_matrix.shape[0])\n",
        "        user_sim_scores = np.array(user_sim_scores)[0].tolist()\n",
        " \n",
        "        #Sort the indices of user_sim_scores based upon their value\n",
        "        #Also maintain the corresponding score\n",
        "        sort_index = sorted(((e,i) for i,e in enumerate(list(user_sim_scores))), reverse=True)\n",
        "    \n",
        "        #Create a dataframe from the following\n",
        "        columns = ['user_id', 'song', 'score', 'rank']\n",
        "        #index = np.arange(1) # array of numbers for the number of samples\n",
        "        df = pandas.DataFrame(columns=columns)\n",
        "         \n",
        "        #Fill the dataframe with top 10 item based recommendations\n",
        "        rank = 1 \n",
        "        for i in range(0,len(sort_index)):\n",
        "            if ~np.isnan(sort_index[i][0]) and all_songs[sort_index[i][1]] not in user_songs and rank <= 10:\n",
        "                df.loc[len(df)]=[user,all_songs[sort_index[i][1]],sort_index[i][0],rank]\n",
        "                rank = rank+1\n",
        "        \n",
        "        #Handle the case where there are no recommendations\n",
        "        if df.shape[0] == 0:\n",
        "            print(\"The current user has no songs for training the item similarity based recommendation model.\")\n",
        "            return -1\n",
        "        else:\n",
        "            return df\n",
        " \n",
        "    #Create the item similarity based recommender system model\n",
        "    def create(self, train_data, user_id, item_id):\n",
        "        self.train_data = train_data\n",
        "        self.user_id = user_id\n",
        "        self.item_id = item_id\n",
        "\n",
        "    #Use the item similarity based recommender system model to\n",
        "    #make recommendations\n",
        "    def recommend(self, user):\n",
        "        \n",
        "        ########################################\n",
        "        #A. Get all unique songs for this user\n",
        "        ########################################\n",
        "        user_songs = self.get_user_items(user)    \n",
        "            \n",
        "        print(\"No. of unique songs for the user: %d\" % len(user_songs))\n",
        "        \n",
        "        ######################################################\n",
        "        #B. Get all unique items (songs) in the training data\n",
        "        ######################################################\n",
        "        all_songs = self.get_all_items_train_data()\n",
        "        \n",
        "        print(\"no. of unique songs in the training set: %d\" % len(all_songs))\n",
        "         \n",
        "        ###############################################\n",
        "        #C. Construct item cooccurence matrix of size \n",
        "        #len(user_songs) X len(songs)\n",
        "        ###############################################\n",
        "        cooccurence_matrix = self.construct_cooccurence_matrix(user_songs, all_songs)\n",
        "        \n",
        "        #######################################################\n",
        "        #D. Use the cooccurence matrix to make recommendations\n",
        "        #######################################################\n",
        "        df_recommendations = self.generate_top_recommendations(user, cooccurence_matrix, all_songs, user_songs)\n",
        "                \n",
        "        return df_recommendations\n",
        "    \n",
        "    #Get similar items to given items\n",
        "    def get_similar_items(self, item_list):\n",
        "        \n",
        "        user_songs = item_list\n",
        "        \n",
        "        ######################################################\n",
        "        #B. Get all unique items (songs) in the training data\n",
        "        ######################################################\n",
        "        all_songs = self.get_all_items_train_data()\n",
        "        \n",
        "        print(\"no. of unique songs in the training set: %d\" % len(all_songs))\n",
        "         \n",
        "        ###############################################\n",
        "        #C. Construct item cooccurence matrix of size \n",
        "        #len(user_songs) X len(songs)\n",
        "        ###############################################\n",
        "        cooccurence_matrix = self.construct_cooccurence_matrix(user_songs, all_songs)\n",
        "        \n",
        "        #######################################################\n",
        "        #D. Use the cooccurence matrix to make recommendations\n",
        "        #######################################################\n",
        "        user = \"\"\n",
        "        df_recommendations = self.generate_top_recommendations(user, cooccurence_matrix, all_songs, user_songs)\n",
        "         \n",
        "        return df_recommendations\n"
      ],
      "execution_count": 0,
      "outputs": []
    },
    {
      "metadata": {
        "id": "VEKez6cpxCKV",
        "colab_type": "text"
      },
      "cell_type": "markdown",
      "source": [
        "## Build a song recommender with better adaptivess using collaborative recommendation.\n",
        "## It is of 2 types- User Item and Item-Item\n",
        "\n",
        "We now create an item similarity based collaborative filtering model that allows us to make personalized recommendations to each user. "
      ]
    },
    {
      "metadata": {
        "id": "BOkqYS4ltB7U",
        "colab_type": "code",
        "colab": {
          "autoexec": {
            "startup": false,
            "wait_interval": 0
          }
        }
      },
      "cell_type": "code",
      "source": [
        "#Recall and evaluate function\n",
        "#Class to calculate precision and recall\n",
        "\n",
        "import random\n",
        "\n",
        "class precision_recall_calculator():\n",
        "    \n",
        "    def __init__(self, test_data, train_data, pm, is_model):\n",
        "        self.test_data = test_data\n",
        "        self.train_data = train_data\n",
        "        self.user_test_sample = None\n",
        "        self.model1 = pm\n",
        "        self.model2 = is_model\n",
        "        \n",
        "        self.ism_training_dict = dict()\n",
        "        self.pm_training_dict = dict()\n",
        "        self.test_dict = dict()\n",
        "    \n",
        "    #Method to return random percentage of values from a list\n",
        "    def remove_percentage(self, list_a, percentage):\n",
        "        k = int(len(list_a) * percentage)\n",
        "        random.seed(0)\n",
        "        indicies = random.sample(range(len(list_a)), k)\n",
        "        new_list = [list_a[i] for i in indicies]\n",
        "    \n",
        "        return new_list\n",
        "    \n",
        "    #Create a test sample of users for use in calculating precision\n",
        "    #and recall\n",
        "    def create_user_test_sample(self, percentage):\n",
        "        #Find users common between training and test set\n",
        "        users_test_and_training = list(set(self.test_data['user_id'].unique()).intersection(set(self.train_data['user_id'].unique())))\n",
        "        print(\"Length of user_test_and_training:%d\" % len(users_test_and_training))\n",
        "\n",
        "        #Take only random user_sample of users for evaluations\n",
        "        self.users_test_sample = self.remove_percentage(users_test_and_training, percentage)\n",
        "\n",
        "        print(\"Length of user sample:%d\" % len(self.users_test_sample))\n",
        "        \n",
        "    #Method to generate recommendations for users in the user test sample\n",
        "    def get_test_sample_recommendations(self):\n",
        "        #For these test_sample users, get top 10 recommendations from training set\n",
        "        #self.ism_training_dict = {}\n",
        "        #self.pm_training_dict = {}\n",
        "\n",
        "        #self.test_dict = {}\n",
        "\n",
        "        for user_id in self.users_test_sample:\n",
        "            #Get items for user_id from item similarity model\n",
        "            print(\"Getting recommendations for user:%s\" % user_id)\n",
        "            user_sim_items = self.model2.recommend(user_id)\n",
        "            self.ism_training_dict[user_id] = list(user_sim_items[\"song\"])\n",
        "    \n",
        "            #Get items for user_id from popularity model\n",
        "            user_sim_items = self.model1.recommend(user_id)\n",
        "            self.pm_training_dict[user_id] = list(user_sim_items[\"song\"])\n",
        "    \n",
        "            #Get items for user_id from test_data\n",
        "            test_data_user = self.test_data[self.test_data['user_id'] == user_id]\n",
        "            self.test_dict[user_id] = set(test_data_user['song'].unique() )\n",
        "    \n",
        "    #Method to calculate the precision and recall measures\n",
        "    def calculate_precision_recall(self):\n",
        "        #Create cutoff list for precision and recall calculation\n",
        "        cutoff_list = list(range(1,11))\n",
        "\n",
        "\n",
        "        #For each distinct cutoff:\n",
        "        #    1. For each distinct user, calculate precision and recall.\n",
        "        #    2. Calculate average precision and recall.\n",
        "\n",
        "        ism_avg_precision_list = []\n",
        "        ism_avg_recall_list = []\n",
        "        pm_avg_precision_list = []\n",
        "        pm_avg_recall_list = []\n",
        "\n",
        "\n",
        "        num_users_sample = len(self.users_test_sample)\n",
        "        for N in cutoff_list:\n",
        "            ism_sum_precision = 0\n",
        "            ism_sum_recall = 0\n",
        "            pm_sum_precision = 0\n",
        "            pm_sum_recall = 0\n",
        "            ism_avg_precision = 0\n",
        "            ism_avg_recall = 0\n",
        "            pm_avg_precision = 0\n",
        "            pm_avg_recall = 0\n",
        "\n",
        "            for user_id in self.users_test_sample:\n",
        "                ism_hitset = self.test_dict[user_id].intersection(set(self.ism_training_dict[user_id][0:N]))\n",
        "                pm_hitset = self.test_dict[user_id].intersection(set(self.pm_training_dict[user_id][0:N]))\n",
        "                testset = self.test_dict[user_id]\n",
        "        \n",
        "                pm_sum_precision += float(len(pm_hitset))/float(N)\n",
        "                pm_sum_recall += float(len(pm_hitset))/float(len(testset))\n",
        "\n",
        "                ism_sum_precision += float(len(ism_hitset))/float(len(testset))\n",
        "                ism_sum_recall += float(len(ism_hitset))/float(N)\n",
        "        \n",
        "            pm_avg_precision = pm_sum_precision/float(num_users_sample)\n",
        "            pm_avg_recall = pm_sum_recall/float(num_users_sample)\n",
        "    \n",
        "            ism_avg_precision = ism_sum_precision/float(num_users_sample)\n",
        "            ism_avg_recall = ism_sum_recall/float(num_users_sample)\n",
        "\n",
        "            ism_avg_precision_list.append(ism_avg_precision)\n",
        "            ism_avg_recall_list.append(ism_avg_recall)\n",
        "    \n",
        "            pm_avg_precision_list.append(pm_avg_precision)\n",
        "            pm_avg_recall_list.append(pm_avg_recall)\n",
        "            \n",
        "        return (pm_avg_precision_list, pm_avg_recall_list, ism_avg_precision_list, ism_avg_recall_list)\n",
        "     \n",
        "\n",
        "    #A wrapper method to calculate all the evaluation measures\n",
        "    def calculate_measures(self, percentage):\n",
        "        #Create a test sample of users\n",
        "        self.create_user_test_sample(percentage)\n",
        "        \n",
        "        #Generate recommendations for the test sample users\n",
        "        self.get_test_sample_recommendations()\n",
        "        \n",
        "        #Calculate precision and recall at different cutoff values\n",
        "        #for popularity mode (pm) as well as item similarity model (ism)\n",
        "        \n",
        "        return self.calculate_precision_recall()\n",
        "        #return (pm_avg_precision_list, pm_avg_recall_list, ism_avg_precision_list, ism_avg_recall_list)    "
      ],
      "execution_count": 0,
      "outputs": []
    },
    {
      "metadata": {
        "id": "yPbK25Fb2WZI",
        "colab_type": "code",
        "colab": {
          "autoexec": {
            "startup": false,
            "wait_interval": 0
          }
        }
      },
      "cell_type": "code",
      "source": [
        "#Creating an instance of the item-item collaborative recommendation module\n",
        "is_model = item_similarity_recommender_py()\n",
        "is_model.create(train_data, 'user_id', 'song')"
      ],
      "execution_count": 0,
      "outputs": []
    },
    {
      "metadata": {
        "id": "0a83SsS-3K9T",
        "colab_type": "code",
        "colab": {
          "autoexec": {
            "startup": false,
            "wait_interval": 0
          },
          "output_extras": [
            {
              "item_id": 1
            },
            {
              "item_id": 2
            },
            {
              "item_id": 8
            },
            {
              "item_id": 9
            },
            {
              "item_id": 10
            }
          ],
          "base_uri": "https://localhost:8080/",
          "height": 757
        },
        "outputId": "5f2089e8-48ba-4157-afb7-6bb307636b42",
        "executionInfo": {
          "status": "ok",
          "timestamp": 1518037273539,
          "user_tz": -330,
          "elapsed": 7208,
          "user": {
            "displayName": "Suraj",
            "photoUrl": "//lh5.googleusercontent.com/-n0XOqm4pzzY/AAAAAAAAAAI/AAAAAAAAGMk/QR2xoSjmXbk/s50-c-k-no/photo.jpg",
            "userId": "108764986987181223074"
          }
        }
      },
      "cell_type": "code",
      "source": [
        "\n",
        "#using training data to make some recommendations\n",
        "#Print the songs for the user in training data\n",
        "user_id = users[5]\n",
        "user_items = is_model.get_user_items(user_id)\n",
        "#\n",
        "print(\"------------------------------------------------------------------------------------\")\n",
        "print(\"Training data songs for the user userid: %s:\" % user_id)\n",
        "print(\"------------------------------------------------------------------------------------\")\n",
        "\n",
        "for user_item in user_items:\n",
        "    print(user_item)\n",
        "\n",
        "print(\"----------------------------------------------------------------------\")\n",
        "print(\"Recommendation process going on:\")\n",
        "print(\"----------------------------------------------------------------------\")\n",
        "\n",
        "#Recommend songs for the user using personalized model\n",
        "is_model.recommend(user_id)"
      ],
      "execution_count": 51,
      "outputs": [
        {
          "output_type": "stream",
          "text": [
            "  2%|▏         | 77/4480 [00:00<00:05, 766.05it/s]"
          ],
          "name": "stderr"
        },
        {
          "output_type": "stream",
          "text": [
            "------------------------------------------------------------------------------------\n",
            "Training data songs for the user userid: 4bd88bfb25263a75bbdd467e74018f4ae570e5df:\n",
            "------------------------------------------------------------------------------------\n",
            "16 Candles - The Crests\n",
            "Push It - Salt-N-Pepa\n",
            "Somebody To Love - Justin Bieber\n",
            "Without Me - Eminem\n",
            "Speechless - Lady GaGa\n",
            "My Dad's Gone Crazy - Eminem / Hailie Jade\n",
            "Just Lose It - Eminem\n",
            "Missing You - John Waite\n",
            "Forgive Me - Leona Lewis\n",
            "Ghosts 'n' Stuff (Original Instrumental Mix) - Deadmau5\n",
            "Say My Name - Destiny's Child\n",
            "Ya Nada Queda - Kudai\n",
            "The Real Slim Shady - Eminem\n",
            "----------------------------------------------------------------------\n",
            "Recommendation process going on:\n",
            "----------------------------------------------------------------------\n",
            "No. of unique songs for the user: 13\n",
            "no. of unique songs in the training set: 4480\n"
          ],
          "name": "stdout"
        },
        {
          "output_type": "stream",
          "text": [
            "100%|██████████| 4480/4480 [00:06<00:00, 739.76it/s]\n"
          ],
          "name": "stderr"
        },
        {
          "output_type": "stream",
          "text": [
            "Non zero values in cooccurence_matrix :2194\n"
          ],
          "name": "stdout"
        },
        {
          "output_type": "execute_result",
          "data": {
            "text/html": [
              "<div>\n",
              "<style scoped>\n",
              "    .dataframe tbody tr th:only-of-type {\n",
              "        vertical-align: middle;\n",
              "    }\n",
              "\n",
              "    .dataframe tbody tr th {\n",
              "        vertical-align: top;\n",
              "    }\n",
              "\n",
              "    .dataframe thead th {\n",
              "        text-align: right;\n",
              "    }\n",
              "</style>\n",
              "<table border=\"1\" class=\"dataframe\">\n",
              "  <thead>\n",
              "    <tr style=\"text-align: right;\">\n",
              "      <th></th>\n",
              "      <th>user_id</th>\n",
              "      <th>song</th>\n",
              "      <th>score</th>\n",
              "      <th>rank</th>\n",
              "    </tr>\n",
              "  </thead>\n",
              "  <tbody>\n",
              "    <tr>\n",
              "      <th>0</th>\n",
              "      <td>4bd88bfb25263a75bbdd467e74018f4ae570e5df</td>\n",
              "      <td>Superman - Eminem / Dina Rae</td>\n",
              "      <td>0.097867</td>\n",
              "      <td>1</td>\n",
              "    </tr>\n",
              "    <tr>\n",
              "      <th>1</th>\n",
              "      <td>4bd88bfb25263a75bbdd467e74018f4ae570e5df</td>\n",
              "      <td>Mockingbird - Eminem</td>\n",
              "      <td>0.067501</td>\n",
              "      <td>2</td>\n",
              "    </tr>\n",
              "    <tr>\n",
              "      <th>2</th>\n",
              "      <td>4bd88bfb25263a75bbdd467e74018f4ae570e5df</td>\n",
              "      <td>I'm Back - Eminem</td>\n",
              "      <td>0.066479</td>\n",
              "      <td>3</td>\n",
              "    </tr>\n",
              "    <tr>\n",
              "      <th>3</th>\n",
              "      <td>4bd88bfb25263a75bbdd467e74018f4ae570e5df</td>\n",
              "      <td>U Smile - Justin Bieber</td>\n",
              "      <td>0.058590</td>\n",
              "      <td>4</td>\n",
              "    </tr>\n",
              "    <tr>\n",
              "      <th>4</th>\n",
              "      <td>4bd88bfb25263a75bbdd467e74018f4ae570e5df</td>\n",
              "      <td>Forgot About Dre - Dr. Dre / Eminem</td>\n",
              "      <td>0.057265</td>\n",
              "      <td>5</td>\n",
              "    </tr>\n",
              "    <tr>\n",
              "      <th>5</th>\n",
              "      <td>4bd88bfb25263a75bbdd467e74018f4ae570e5df</td>\n",
              "      <td>When I Get Where I'm Going - Brad Paisley;Doll...</td>\n",
              "      <td>0.054701</td>\n",
              "      <td>6</td>\n",
              "    </tr>\n",
              "    <tr>\n",
              "      <th>6</th>\n",
              "      <td>4bd88bfb25263a75bbdd467e74018f4ae570e5df</td>\n",
              "      <td>Hellbound - J-Black &amp; Masta Ace</td>\n",
              "      <td>0.054701</td>\n",
              "      <td>7</td>\n",
              "    </tr>\n",
              "    <tr>\n",
              "      <th>7</th>\n",
              "      <td>4bd88bfb25263a75bbdd467e74018f4ae570e5df</td>\n",
              "      <td>Monster - Lady GaGa</td>\n",
              "      <td>0.052808</td>\n",
              "      <td>8</td>\n",
              "    </tr>\n",
              "    <tr>\n",
              "      <th>8</th>\n",
              "      <td>4bd88bfb25263a75bbdd467e74018f4ae570e5df</td>\n",
              "      <td>I'm On A Boat - The Lonely Island / T-Pain</td>\n",
              "      <td>0.052153</td>\n",
              "      <td>9</td>\n",
              "    </tr>\n",
              "    <tr>\n",
              "      <th>9</th>\n",
              "      <td>4bd88bfb25263a75bbdd467e74018f4ae570e5df</td>\n",
              "      <td>If I Had You - Adam Lambert</td>\n",
              "      <td>0.052100</td>\n",
              "      <td>10</td>\n",
              "    </tr>\n",
              "  </tbody>\n",
              "</table>\n",
              "</div>"
            ],
            "text/plain": [
              "                                    user_id  \\\n",
              "0  4bd88bfb25263a75bbdd467e74018f4ae570e5df   \n",
              "1  4bd88bfb25263a75bbdd467e74018f4ae570e5df   \n",
              "2  4bd88bfb25263a75bbdd467e74018f4ae570e5df   \n",
              "3  4bd88bfb25263a75bbdd467e74018f4ae570e5df   \n",
              "4  4bd88bfb25263a75bbdd467e74018f4ae570e5df   \n",
              "5  4bd88bfb25263a75bbdd467e74018f4ae570e5df   \n",
              "6  4bd88bfb25263a75bbdd467e74018f4ae570e5df   \n",
              "7  4bd88bfb25263a75bbdd467e74018f4ae570e5df   \n",
              "8  4bd88bfb25263a75bbdd467e74018f4ae570e5df   \n",
              "9  4bd88bfb25263a75bbdd467e74018f4ae570e5df   \n",
              "\n",
              "                                                song     score rank  \n",
              "0                       Superman - Eminem / Dina Rae  0.097867    1  \n",
              "1                               Mockingbird - Eminem  0.067501    2  \n",
              "2                                  I'm Back - Eminem  0.066479    3  \n",
              "3                            U Smile - Justin Bieber  0.058590    4  \n",
              "4                Forgot About Dre - Dr. Dre / Eminem  0.057265    5  \n",
              "5  When I Get Where I'm Going - Brad Paisley;Doll...  0.054701    6  \n",
              "6                    Hellbound - J-Black & Masta Ace  0.054701    7  \n",
              "7                                Monster - Lady GaGa  0.052808    8  \n",
              "8         I'm On A Boat - The Lonely Island / T-Pain  0.052153    9  \n",
              "9                        If I Had You - Adam Lambert  0.052100   10  "
            ]
          },
          "metadata": {
            "tags": []
          },
          "execution_count": 51
        }
      ]
    },
    {
      "metadata": {
        "id": "8geQade_0jky",
        "colab_type": "code",
        "colab": {
          "autoexec": {
            "startup": false,
            "wait_interval": 0
          },
          "output_extras": [
            {
              "item_id": 1
            },
            {
              "item_id": 2
            },
            {
              "item_id": 8
            },
            {
              "item_id": 9
            },
            {
              "item_id": 15
            },
            {
              "item_id": 16
            },
            {
              "item_id": 22
            },
            {
              "item_id": 23
            },
            {
              "item_id": 30
            },
            {
              "item_id": 31
            },
            {
              "item_id": 41
            },
            {
              "item_id": 42
            },
            {
              "item_id": 51
            },
            {
              "item_id": 52
            },
            {
              "item_id": 59
            },
            {
              "item_id": 60
            },
            {
              "item_id": 73
            },
            {
              "item_id": 74
            },
            {
              "item_id": 88
            },
            {
              "item_id": 89
            },
            {
              "item_id": 97
            },
            {
              "item_id": 98
            },
            {
              "item_id": 106
            },
            {
              "item_id": 107
            },
            {
              "item_id": 113
            },
            {
              "item_id": 114
            },
            {
              "item_id": 118
            },
            {
              "item_id": 119
            },
            {
              "item_id": 128
            },
            {
              "item_id": 129
            },
            {
              "item_id": 136
            },
            {
              "item_id": 137
            },
            {
              "item_id": 143
            },
            {
              "item_id": 144
            },
            {
              "item_id": 145
            }
          ],
          "base_uri": "https://localhost:8080/",
          "height": 1492
        },
        "outputId": "a0eab643-3a57-4c12-9ace-6eeaf699153a",
        "executionInfo": {
          "status": "ok",
          "timestamp": 1518037377975,
          "user_tz": -330,
          "elapsed": 104352,
          "user": {
            "displayName": "Suraj",
            "photoUrl": "//lh5.googleusercontent.com/-n0XOqm4pzzY/AAAAAAAAAAI/AAAAAAAAGMk/QR2xoSjmXbk/s50-c-k-no/photo.jpg",
            "userId": "108764986987181223074"
          }
        }
      },
      "cell_type": "code",
      "source": [
        "start = time.time()\n",
        "\n",
        "#Define what percentage of users to use for precision recall calculation\n",
        "user_sample = 0.05\n",
        "\n",
        "#Instantiate the precision_recall_calculator class\n",
        "pr = precision_recall_calculator(test_data, train_data, recommender_instance, is_model)\n",
        "\n",
        "#Call method to calculate precision and recall values\n",
        "(pm_avg_precision_list, pm_avg_recall_list, ism_avg_precision_list, ism_avg_recall_list) = pr.calculate_measures(user_sample)\n",
        "\n",
        "end = time.time()\n",
        "print(end - start)"
      ],
      "execution_count": 52,
      "outputs": [
        {
          "output_type": "stream",
          "text": [
            "  2%|▏         | 74/4480 [00:00<00:05, 738.96it/s]"
          ],
          "name": "stderr"
        },
        {
          "output_type": "stream",
          "text": [
            "Length of user_test_and_training:322\n",
            "Length of user sample:16\n",
            "Getting recommendations for user:55e29789181da8b9c8e9d5f3b624a029492d7616\n",
            "No. of unique songs for the user: 15\n",
            "no. of unique songs in the training set: 4480\n"
          ],
          "name": "stdout"
        },
        {
          "output_type": "stream",
          "text": [
            "100%|██████████| 4480/4480 [00:06<00:00, 721.27it/s]\n",
            "  0%|          | 0/4480 [00:00<?, ?it/s]"
          ],
          "name": "stderr"
        },
        {
          "output_type": "stream",
          "text": [
            "Non zero values in cooccurence_matrix :1547\n",
            "Getting recommendations for user:07caa920795cd4f20bfeeb0e192a5ddd9566ecdd\n",
            "No. of unique songs for the user: 41\n",
            "no. of unique songs in the training set: 4480\n"
          ],
          "name": "stdout"
        },
        {
          "output_type": "stream",
          "text": [
            "100%|██████████| 4480/4480 [00:06<00:00, 714.80it/s]\n",
            "  2%|▏         | 74/4480 [00:00<00:05, 739.44it/s]"
          ],
          "name": "stderr"
        },
        {
          "output_type": "stream",
          "text": [
            "Non zero values in cooccurence_matrix :9907\n",
            "Getting recommendations for user:399793ee5842e6f5b0b7f04fa5ec402454e2fe34\n",
            "No. of unique songs for the user: 5\n",
            "no. of unique songs in the training set: 4480\n"
          ],
          "name": "stdout"
        },
        {
          "output_type": "stream",
          "text": [
            "100%|██████████| 4480/4480 [00:06<00:00, 725.29it/s]\n",
            "  2%|▏         | 73/4480 [00:00<00:06, 723.93it/s]"
          ],
          "name": "stderr"
        },
        {
          "output_type": "stream",
          "text": [
            "Non zero values in cooccurence_matrix :1168\n",
            "Getting recommendations for user:2b6c2f33bc0e887ea7c4411f58106805a1923280\n",
            "No. of unique songs for the user: 18\n",
            "no. of unique songs in the training set: 4480\n"
          ],
          "name": "stdout"
        },
        {
          "output_type": "stream",
          "text": [
            "100%|██████████| 4480/4480 [00:06<00:00, 717.25it/s]\n",
            "  2%|▏         | 73/4480 [00:00<00:06, 727.14it/s]"
          ],
          "name": "stderr"
        },
        {
          "output_type": "stream",
          "text": [
            "Non zero values in cooccurence_matrix :2992\n",
            "Getting recommendations for user:96e72774fb758108c78d91c110e78133c9ded266\n",
            "No. of unique songs for the user: 6\n",
            "no. of unique songs in the training set: 4480\n"
          ],
          "name": "stdout"
        },
        {
          "output_type": "stream",
          "text": [
            "100%|██████████| 4480/4480 [00:06<00:00, 714.35it/s]\n",
            "  0%|          | 0/4480 [00:00<?, ?it/s]"
          ],
          "name": "stderr"
        },
        {
          "output_type": "stream",
          "text": [
            "Non zero values in cooccurence_matrix :541\n",
            "Getting recommendations for user:390c2e81bc9cf885608a0891c0a7eb13f1fd3336\n",
            "No. of unique songs for the user: 61\n",
            "no. of unique songs in the training set: 4480\n"
          ],
          "name": "stdout"
        },
        {
          "output_type": "stream",
          "text": [
            "100%|██████████| 4480/4480 [00:06<00:00, 699.98it/s]\n",
            "  2%|▏         | 73/4480 [00:00<00:06, 722.25it/s]"
          ],
          "name": "stderr"
        },
        {
          "output_type": "stream",
          "text": [
            "Non zero values in cooccurence_matrix :21112\n",
            "Getting recommendations for user:3fef4e71c70ae99ef8a4da00e431f9cdb2b1b729\n",
            "No. of unique songs for the user: 19\n",
            "no. of unique songs in the training set: 4480\n"
          ],
          "name": "stdout"
        },
        {
          "output_type": "stream",
          "text": [
            "100%|██████████| 4480/4480 [00:06<00:00, 724.30it/s]\n",
            "  2%|▏         | 75/4480 [00:00<00:05, 744.67it/s]"
          ],
          "name": "stderr"
        },
        {
          "output_type": "stream",
          "text": [
            "Non zero values in cooccurence_matrix :746\n",
            "Getting recommendations for user:5aa89364746d7f350d35a403da8f397bd9d32b41\n",
            "No. of unique songs for the user: 14\n",
            "no. of unique songs in the training set: 4480\n"
          ],
          "name": "stdout"
        },
        {
          "output_type": "stream",
          "text": [
            "100%|██████████| 4480/4480 [00:06<00:00, 725.19it/s]\n",
            "  2%|▏         | 76/4480 [00:00<00:05, 753.06it/s]"
          ],
          "name": "stderr"
        },
        {
          "output_type": "stream",
          "text": [
            "Non zero values in cooccurence_matrix :265\n",
            "Getting recommendations for user:2418d6837aada8911991cc748bc70a9a479f0cb4\n",
            "No. of unique songs for the user: 5\n",
            "no. of unique songs in the training set: 4480\n"
          ],
          "name": "stdout"
        },
        {
          "output_type": "stream",
          "text": [
            "100%|██████████| 4480/4480 [00:06<00:00, 720.26it/s]\n",
            "  2%|▏         | 72/4480 [00:00<00:06, 715.29it/s]"
          ],
          "name": "stderr"
        },
        {
          "output_type": "stream",
          "text": [
            "Non zero values in cooccurence_matrix :304\n",
            "Getting recommendations for user:4c84359a164b161496d05282707cecbd50adbfc4\n",
            "No. of unique songs for the user: 3\n",
            "no. of unique songs in the training set: 4480\n"
          ],
          "name": "stdout"
        },
        {
          "output_type": "stream",
          "text": [
            "100%|██████████| 4480/4480 [00:06<00:00, 717.83it/s]\n",
            "  2%|▏         | 73/4480 [00:00<00:06, 722.08it/s]"
          ],
          "name": "stderr"
        },
        {
          "output_type": "stream",
          "text": [
            "Non zero values in cooccurence_matrix :162\n",
            "Getting recommendations for user:1fdf267d8e81db0bb69093460fdab8254e69a2de\n",
            "No. of unique songs for the user: 4\n",
            "no. of unique songs in the training set: 4480\n"
          ],
          "name": "stdout"
        },
        {
          "output_type": "stream",
          "text": [
            "100%|██████████| 4480/4480 [00:06<00:00, 720.32it/s]\n",
            "  2%|▏         | 69/4480 [00:00<00:06, 681.87it/s]"
          ],
          "name": "stderr"
        },
        {
          "output_type": "stream",
          "text": [
            "Non zero values in cooccurence_matrix :422\n",
            "Getting recommendations for user:edc8b7b1fd592a3b69c3d823a742e1a064abec95\n",
            "No. of unique songs for the user: 19\n",
            "no. of unique songs in the training set: 4480\n"
          ],
          "name": "stdout"
        },
        {
          "output_type": "stream",
          "text": [
            "100%|██████████| 4480/4480 [00:06<00:00, 712.93it/s]\n",
            "  2%|▏         | 74/4480 [00:00<00:05, 735.68it/s]"
          ],
          "name": "stderr"
        },
        {
          "output_type": "stream",
          "text": [
            "Non zero values in cooccurence_matrix :3376\n",
            "Getting recommendations for user:9d6f0ead607ac2a6c2460e4d14fb439a146b7dec\n",
            "No. of unique songs for the user: 8\n",
            "no. of unique songs in the training set: 4480\n"
          ],
          "name": "stdout"
        },
        {
          "output_type": "stream",
          "text": [
            "100%|██████████| 4480/4480 [00:06<00:00, 715.19it/s]\n",
            "  2%|▏         | 73/4480 [00:00<00:06, 728.69it/s]"
          ],
          "name": "stderr"
        },
        {
          "output_type": "stream",
          "text": [
            "Non zero values in cooccurence_matrix :4018\n",
            "Getting recommendations for user:f28f980d8842ebfaa31e8fb3939aace4a43a18ec\n",
            "No. of unique songs for the user: 20\n",
            "no. of unique songs in the training set: 4480\n"
          ],
          "name": "stdout"
        },
        {
          "output_type": "stream",
          "text": [
            "100%|██████████| 4480/4480 [00:07<00:00, 627.26it/s]\n",
            "  2%|▏         | 69/4480 [00:00<00:06, 683.30it/s]"
          ],
          "name": "stderr"
        },
        {
          "output_type": "stream",
          "text": [
            "Non zero values in cooccurence_matrix :1490\n",
            "Getting recommendations for user:62f2f9b881dc320d745a90c0c10528d18e10deb1\n",
            "No. of unique songs for the user: 9\n",
            "no. of unique songs in the training set: 4480\n"
          ],
          "name": "stdout"
        },
        {
          "output_type": "stream",
          "text": [
            "100%|██████████| 4480/4480 [00:06<00:00, 715.62it/s]\n",
            "  2%|▏         | 73/4480 [00:00<00:06, 728.95it/s]"
          ],
          "name": "stderr"
        },
        {
          "output_type": "stream",
          "text": [
            "Non zero values in cooccurence_matrix :2148\n",
            "Getting recommendations for user:1645b689f873529ab85e3b72742be44813e82bd3\n",
            "No. of unique songs for the user: 14\n",
            "no. of unique songs in the training set: 4480\n"
          ],
          "name": "stdout"
        },
        {
          "output_type": "stream",
          "text": [
            "100%|██████████| 4480/4480 [00:06<00:00, 718.44it/s]"
          ],
          "name": "stderr"
        },
        {
          "output_type": "stream",
          "text": [
            "Non zero values in cooccurence_matrix :4537\n",
            "102.059797049\n"
          ],
          "name": "stdout"
        },
        {
          "output_type": "stream",
          "text": [
            "\n"
          ],
          "name": "stderr"
        }
      ]
    },
    {
      "metadata": {
        "id": "P9CC9sYuzSGe",
        "colab_type": "code",
        "colab": {
          "autoexec": {
            "startup": false,
            "wait_interval": 0
          }
        }
      },
      "cell_type": "code",
      "source": [
        "#plotting precision plot\n",
        "import pylab as pl\n",
        "\n",
        "#Method to generate precision and recall curve\n",
        "def plot_precision_recall(m1_precision_list, m1_recall_list, m1_label, m2_precision_list, m2_recall_list, m2_label):\n",
        "    pl.clf()    \n",
        "    pl.plot(m1_recall_list, m1_precision_list, label=m1_label)\n",
        "    pl.plot(m2_recall_list, m2_precision_list, label=m2_label)\n",
        "    pl.xlabel('Recall')\n",
        "    pl.ylabel('Precision')\n",
        "    pl.ylim([0.0, 0.20])\n",
        "    pl.xlim([0.0, 0.20])\n",
        "    pl.title('Precision-Recall curve')\n",
        "    #pl.legend(loc=\"upper right\")\n",
        "    pl.legend(loc=9, bbox_to_anchor=(0.5, -0.2))\n",
        "    pl.show()\n"
      ],
      "execution_count": 0,
      "outputs": []
    },
    {
      "metadata": {
        "id": "wjparr7SGBbW",
        "colab_type": "code",
        "colab": {
          "autoexec": {
            "startup": false,
            "wait_interval": 0
          }
        }
      },
      "cell_type": "code",
      "source": [
        "import pylab as pl\n",
        "\n",
        "#Method to generate precision and recall curve\n",
        "def plot_precision_recall(m1_precision_list, m1_recall_list, m1_label, m2_precision_list, m2_recall_list, m2_label):\n",
        "    pl.clf()    \n",
        "    pl.plot(m1_recall_list, m1_precision_list, label=m1_label)\n",
        "    pl.plot(m2_recall_list, m2_precision_list, label=m2_label)\n",
        "    pl.xlabel('Recall')\n",
        "    pl.ylabel('Precision')\n",
        "    pl.ylim([0.0, 0.20])\n",
        "    pl.xlim([0.0, 0.20])\n",
        "    pl.title('Precision-Recall curve')\n",
        "    #pl.legend(loc=\"upper right\")\n",
        "    pl.legend(loc=9, bbox_to_anchor=(0.5, -0.2))\n",
        "    pl.show()\n"
      ],
      "execution_count": 0,
      "outputs": []
    },
    {
      "metadata": {
        "id": "ZgRxyLOp5NOu",
        "colab_type": "code",
        "colab": {
          "autoexec": {
            "startup": false,
            "wait_interval": 0
          },
          "output_extras": [
            {
              "item_id": 1
            },
            {
              "item_id": 2
            }
          ],
          "base_uri": "https://localhost:8080/",
          "height": 362
        },
        "outputId": "cd5a1c28-60e7-4987-ccc3-d9789b8ee8fd",
        "executionInfo": {
          "status": "ok",
          "timestamp": 1518037383164,
          "user_tz": -330,
          "elapsed": 1490,
          "user": {
            "displayName": "Suraj",
            "photoUrl": "//lh5.googleusercontent.com/-n0XOqm4pzzY/AAAAAAAAAAI/AAAAAAAAGMk/QR2xoSjmXbk/s50-c-k-no/photo.jpg",
            "userId": "108764986987181223074"
          }
        }
      },
      "cell_type": "code",
      "source": [
        "print(\"Plotting precision recall curves.\")\n",
        "\n",
        "plot_precision_recall(pm_avg_precision_list, pm_avg_recall_list, \"popularity_model\",\n",
        "                      ism_avg_precision_list, ism_avg_recall_list, \"item_similarity_model\")\n"
      ],
      "execution_count": 55,
      "outputs": [
        {
          "output_type": "stream",
          "text": [
            "Plotting precision recall curves.\n"
          ],
          "name": "stdout"
        },
        {
          "output_type": "display_data",
          "data": {
            "image/png": "[encoded data removed]",
            "text/plain": [
              "<matplotlib.figure.Figure at 0x7f11c4def910>"
            ]
          },
          "metadata": {
            "tags": []
          }
        }
      ]
    },
    {
      "metadata": {
        "id": "J7I2JwpZ5h-R",
        "colab_type": "code",
        "colab": {
          "autoexec": {
            "startup": false,
            "wait_interval": 0
          }
        }
      },
      "cell_type": "code",
      "source": [
        ""
      ],
      "execution_count": 0,
      "outputs": []
    }
  ]
}